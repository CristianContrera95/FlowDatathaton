{
 "cells": [
  {
   "cell_type": "markdown",
   "metadata": {},
   "source": [
    "## EDA & Data Cleaning"
   ]
  },
  {
   "cell_type": "markdown",
   "metadata": {},
   "source": [
    "### Data description:"
   ]
  },
  {
   "cell_type": "markdown",
   "metadata": {},
   "source": [
    "##### **train.csv**"
   ]
  },
  {
   "cell_type": "markdown",
   "metadata": {},
   "source": [
    "- **customer_id**: código de identificación de cada cliente de Flow (puede tener asociados uno o más **account_id**)\n",
    "- **account_id**: código de identificación de cada perfil de Flow (se corresponde con un único **customer_id**)\n",
    "- **device_type**: indica el tipo de dispositivo desde el que se efectuó la visualización. Las categorías posibles son:\n",
    "    - CLOUD: cliente web\n",
    "    - PHONE: teléfono celular\n",
    "    - STATIONARY: *smart* TV\n",
    "    - STB: *set-top box*, el decodificador Flow\n",
    "    - TABLET\n",
    "- **asset_id**: código de identificación de cada activo (video) disponible en la plataforma\n",
    "- **tunein**: fecha y hora de inicio de cada visualización\n",
    "- **tuneout**: fecha y hora de finalización de cada visualización\n",
    "- **resume**: variable *dummy* que indica si se reanuda un consumo anterior del mismo **asset_id**\n",
    "\n",
    "##### **metadata.csv**\n",
    "- **asset_id**: código de identificación de cada activo (video) disponible en Flow\n",
    "- **content_id**: código de identificación que agrupa los distintos **asset_id** asociados a un mismo contenido (por ejemplo, cada episodio de una misma serie tiene su propio **asset_id**, mientras que la serie se identifica con un **content_id** único)\n",
    "- **title**: título\n",
    "- **reduced_title**: título reducido\n",
    "- **episode_title**: título del episodio (válido para contenidos episódicos, como las series)\n",
    "- **show_type**: tipo de show - las categorías son autorreferenciales con excepción de “Rolling”, que indica que se trata de una serie incompleta, y “Web”, la cual remite a  contenidos pensados íntegramente en formato digital (series web) -\n",
    "- **released_year**: año de lanzamiento\n",
    "- **country_of_origin**: país de origen – expresado con el código de dos letras propio del estándar internacional de normalización ISO 3166 -\n",
    "- **category**: categoría o género al que pertenece el contenido - puede haber una o más -\n",
    "- **keywords**: palabras clave o *tags* asociadas al contenido - puede haber una o más -\n",
    "- **description**: descripción (sinopsis)\n",
    "- **reduced_desc**: descripción (sinopsis) reducida\n",
    "- **cast_first_name**: nombre y apellido de los actores y actrices principales\n",
    "- **credits_first_name**: nombre y apellido del director o directora\n",
    "- **run_time_min**: duración total, expresada en minutos\n",
    "- **audience**: audiencia *target*\n",
    "- **made_for_tv**: variable *dummy* que indica si el contenido fue hecho para TV\n",
    "- **close_caption**: variable *dummy* que indica si el contenido posee subtítulos\n",
    "- **sex_rating**: variable dummy *que* indica si el contenido tiene escenas de sexo explícitas\n",
    "- **violence_rating**: variable *dummy* que indica si el contenido tiene escenas de violencia explícitas\n",
    "- **language_rating**: variable *dummy* que indica si el contenido posee lenguaje que puede ser considerado ofensivo o inapropiado\n",
    "- **dialog_rating**: variable *dummy* que indica si el contenido posee diálogos que pueden ser considerado ofensivos o inapropiados\n",
    "- **fv_rating**: variable *dummy* que indica si el contenido tiene rating de FV, que corresponde a público infantil con violencia ficticia\n",
    "- **pay_per_view**: variable *dummy* que indica si se trata de un alquiler\n",
    "- **pack_premium_1**: variable *dummy* que indica si se trata de un contenido exclusivo del pack premium 1\n",
    "- **pack_premium_2**: variable *dummy* que indica si se trata de un contenido exclusivo del pack premium 2\n",
    "- **create_date**: fecha de creación del activo\n",
    "- **modify_date**: fecha de modificación del activo\n",
    "- **start_vod_date**: fecha desde la cual el activo se encuentra disponible en la plataforma\n",
    "- **end_vod_date**: fecha de finalización de la disponibilidad del activo  en la plataforma"
   ]
  },
  {
   "cell_type": "markdown",
   "metadata": {
    "heading_collapsed": "true"
   },
   "source": [
    "### Import Libraries"
   ]
  },
  {
   "cell_type": "code",
   "execution_count": 1,
   "metadata": {},
   "outputs": [],
   "source": [
    "import pickle\n",
    "from datetime import datetime\n",
    "\n",
    "import pandas as pd\n",
    "import numpy as np\n",
    "import seaborn as sns\n",
    "from matplotlib import pyplot as plt\n",
    "from sklearn.model_selection import train_test_split\n",
    "\n",
    "np.set_printoptions(precision=2)\n",
    "\n",
    "# pd.set_option('display.max_rows', 5)\n",
    "pd.set_option('display.max_columns', None)\n",
    "pd.set_option('display.precision', 2)\n",
    "\n",
    "plt.rcParams['figure.figsize'] = [18, 6]"
   ]
  },
  {
   "cell_type": "markdown",
   "metadata": {
    "heading_collapsed": "true"
   },
   "source": [
    "### Read data"
   ]
  },
  {
   "cell_type": "code",
   "execution_count": 2,
   "metadata": {},
   "outputs": [
    {
     "name": "stdout",
     "output_type": "stream",
     "text": [
      "df shape: (3657801, 7)\n"
     ]
    },
    {
     "data": {
      "text/html": [
       "<div>\n",
       "<style scoped>\n",
       "    .dataframe tbody tr th:only-of-type {\n",
       "        vertical-align: middle;\n",
       "    }\n",
       "\n",
       "    .dataframe tbody tr th {\n",
       "        vertical-align: top;\n",
       "    }\n",
       "\n",
       "    .dataframe thead th {\n",
       "        text-align: right;\n",
       "    }\n",
       "</style>\n",
       "<table border=\"1\" class=\"dataframe\">\n",
       "  <thead>\n",
       "    <tr style=\"text-align: right;\">\n",
       "      <th></th>\n",
       "      <th>customer_id</th>\n",
       "      <th>account_id</th>\n",
       "      <th>device_type</th>\n",
       "      <th>asset_id</th>\n",
       "      <th>tunein</th>\n",
       "      <th>tuneout</th>\n",
       "      <th>resume</th>\n",
       "    </tr>\n",
       "  </thead>\n",
       "  <tbody>\n",
       "    <tr>\n",
       "      <th>3657796</th>\n",
       "      <td>112339</td>\n",
       "      <td>3386</td>\n",
       "      <td>STB</td>\n",
       "      <td>330.0</td>\n",
       "      <td>2021-03-31 22:10:00</td>\n",
       "      <td>2021-03-31 22:22:00</td>\n",
       "      <td>0</td>\n",
       "    </tr>\n",
       "    <tr>\n",
       "      <th>3657797</th>\n",
       "      <td>112339</td>\n",
       "      <td>3386</td>\n",
       "      <td>STB</td>\n",
       "      <td>9931.0</td>\n",
       "      <td>2021-03-31 22:22:00</td>\n",
       "      <td>2021-03-31 22:34:00</td>\n",
       "      <td>1</td>\n",
       "    </tr>\n",
       "    <tr>\n",
       "      <th>3657798</th>\n",
       "      <td>112339</td>\n",
       "      <td>3386</td>\n",
       "      <td>STB</td>\n",
       "      <td>29929.0</td>\n",
       "      <td>2021-03-31 22:34:00</td>\n",
       "      <td>2021-03-31 22:46:00</td>\n",
       "      <td>0</td>\n",
       "    </tr>\n",
       "    <tr>\n",
       "      <th>3657799</th>\n",
       "      <td>112339</td>\n",
       "      <td>3386</td>\n",
       "      <td>STB</td>\n",
       "      <td>29929.0</td>\n",
       "      <td>2021-03-31 23:09:00</td>\n",
       "      <td>2021-03-31 23:13:00</td>\n",
       "      <td>1</td>\n",
       "    </tr>\n",
       "    <tr>\n",
       "      <th>3657800</th>\n",
       "      <td>112339</td>\n",
       "      <td>3386</td>\n",
       "      <td>STB</td>\n",
       "      <td>29929.0</td>\n",
       "      <td>2021-03-31 23:13:00</td>\n",
       "      <td>2021-03-31 23:24:00</td>\n",
       "      <td>0</td>\n",
       "    </tr>\n",
       "  </tbody>\n",
       "</table>\n",
       "</div>"
      ],
      "text/plain": [
       "         customer_id  account_id device_type  asset_id              tunein  \\\n",
       "3657796       112339        3386         STB     330.0 2021-03-31 22:10:00   \n",
       "3657797       112339        3386         STB    9931.0 2021-03-31 22:22:00   \n",
       "3657798       112339        3386         STB   29929.0 2021-03-31 22:34:00   \n",
       "3657799       112339        3386         STB   29929.0 2021-03-31 23:09:00   \n",
       "3657800       112339        3386         STB   29929.0 2021-03-31 23:13:00   \n",
       "\n",
       "                    tuneout  resume  \n",
       "3657796 2021-03-31 22:22:00       0  \n",
       "3657797 2021-03-31 22:34:00       1  \n",
       "3657798 2021-03-31 22:46:00       0  \n",
       "3657799 2021-03-31 23:13:00       1  \n",
       "3657800 2021-03-31 23:24:00       0  "
      ]
     },
     "execution_count": 2,
     "metadata": {},
     "output_type": "execute_result"
    }
   ],
   "source": [
    "df = pd.read_csv('data/train.csv', parse_dates=['tunein', 'tuneout'])\n",
    "print(f'df shape: {df.shape}')\n",
    "df.tail()"
   ]
  },
  {
   "cell_type": "code",
   "execution_count": 3,
   "metadata": {},
   "outputs": [
    {
     "name": "stdout",
     "output_type": "stream",
     "text": [
      "df shape: (33144, 30)\n"
     ]
    },
    {
     "data": {
      "text/html": [
       "<div>\n",
       "<style scoped>\n",
       "    .dataframe tbody tr th:only-of-type {\n",
       "        vertical-align: middle;\n",
       "    }\n",
       "\n",
       "    .dataframe tbody tr th {\n",
       "        vertical-align: top;\n",
       "    }\n",
       "\n",
       "    .dataframe thead th {\n",
       "        text-align: right;\n",
       "    }\n",
       "</style>\n",
       "<table border=\"1\" class=\"dataframe\">\n",
       "  <thead>\n",
       "    <tr style=\"text-align: right;\">\n",
       "      <th></th>\n",
       "      <th>asset_id</th>\n",
       "      <th>content_id</th>\n",
       "      <th>title</th>\n",
       "      <th>reduced_title</th>\n",
       "      <th>episode_title</th>\n",
       "      <th>show_type</th>\n",
       "      <th>released_year</th>\n",
       "      <th>country_of_origin</th>\n",
       "      <th>category</th>\n",
       "      <th>keywords</th>\n",
       "      <th>description</th>\n",
       "      <th>reduced_desc</th>\n",
       "      <th>cast_first_name</th>\n",
       "      <th>credits_first_name</th>\n",
       "      <th>run_time_min</th>\n",
       "      <th>audience</th>\n",
       "      <th>made_for_tv</th>\n",
       "      <th>close_caption</th>\n",
       "      <th>sex_rating</th>\n",
       "      <th>violence_rating</th>\n",
       "      <th>language_rating</th>\n",
       "      <th>dialog_rating</th>\n",
       "      <th>fv_rating</th>\n",
       "      <th>pay_per_view</th>\n",
       "      <th>pack_premium_1</th>\n",
       "      <th>pack_premium_2</th>\n",
       "      <th>create_date</th>\n",
       "      <th>modify_date</th>\n",
       "      <th>start_vod_date</th>\n",
       "      <th>end_vod_date</th>\n",
       "    </tr>\n",
       "  </thead>\n",
       "  <tbody>\n",
       "    <tr>\n",
       "      <th>33139</th>\n",
       "      <td>3683</td>\n",
       "      <td>1979.0</td>\n",
       "      <td>T:1 Ep:03 Allen V. Farrow</td>\n",
       "      <td>Allen_V_Far_T1_E03</td>\n",
       "      <td>Episodio 3</td>\n",
       "      <td>Serie</td>\n",
       "      <td>2021.0</td>\n",
       "      <td>US</td>\n",
       "      <td>Drama/Documental</td>\n",
       "      <td>Abusos,Familia,Juicio,Hechos Reales,Miniserie</td>\n",
       "      <td>Mientras Mia intenta proteger a Dylan del trau...</td>\n",
       "      <td>El equipo legal y de relaciones públicas de Al...</td>\n",
       "      <td>Mia Farrow, Woody Allen, Dylan Farrow, Ronan F...</td>\n",
       "      <td>Dick Kirby</td>\n",
       "      <td>64.0</td>\n",
       "      <td>General</td>\n",
       "      <td>N</td>\n",
       "      <td>N</td>\n",
       "      <td>N</td>\n",
       "      <td>N</td>\n",
       "      <td>N</td>\n",
       "      <td>N</td>\n",
       "      <td>N</td>\n",
       "      <td>N</td>\n",
       "      <td>N</td>\n",
       "      <td>Y</td>\n",
       "      <td>2021-03-28 23:39:28+00:00</td>\n",
       "      <td>2021-03-29 00:06:09+00:00</td>\n",
       "      <td>2021-03-07 00:00:00+00:00</td>\n",
       "      <td>2021-11-20 23:59:00+00:00</td>\n",
       "    </tr>\n",
       "    <tr>\n",
       "      <th>33140</th>\n",
       "      <td>16810</td>\n",
       "      <td>1979.0</td>\n",
       "      <td>T:1 Ep:01 Allen V. Farrow</td>\n",
       "      <td>Allen_V_Far_T1_E01</td>\n",
       "      <td>Episodio 1</td>\n",
       "      <td>Serie</td>\n",
       "      <td>2021.0</td>\n",
       "      <td>US</td>\n",
       "      <td>Drama/Documental</td>\n",
       "      <td>Abusos,Familia,Juicio,Hechos Reales,Miniserie</td>\n",
       "      <td>Mia Farrow habla sobre su relación con Woody A...</td>\n",
       "      <td>Mia Farrow habla sobre su relación con Woody A...</td>\n",
       "      <td>Mia Farrow, Woody Allen, Dylan Farrow, Ronan F...</td>\n",
       "      <td>Dick Kirby</td>\n",
       "      <td>56.0</td>\n",
       "      <td>General</td>\n",
       "      <td>N</td>\n",
       "      <td>N</td>\n",
       "      <td>N</td>\n",
       "      <td>N</td>\n",
       "      <td>N</td>\n",
       "      <td>N</td>\n",
       "      <td>N</td>\n",
       "      <td>N</td>\n",
       "      <td>N</td>\n",
       "      <td>Y</td>\n",
       "      <td>2021-03-28 23:37:17+00:00</td>\n",
       "      <td>2021-03-29 00:06:01+00:00</td>\n",
       "      <td>2021-02-21 00:00:00+00:00</td>\n",
       "      <td>2021-11-20 23:59:00+00:00</td>\n",
       "    </tr>\n",
       "    <tr>\n",
       "      <th>33141</th>\n",
       "      <td>20468</td>\n",
       "      <td>943.0</td>\n",
       "      <td>T:2 Ep:34 Programa De Talentos</td>\n",
       "      <td>Prog_De_Tal_T2_E34</td>\n",
       "      <td>El antagonista</td>\n",
       "      <td>TV</td>\n",
       "      <td>2011.0</td>\n",
       "      <td>US</td>\n",
       "      <td>Infantil/Comedia</td>\n",
       "      <td>Instituto,Amigos,Música</td>\n",
       "      <td>Fletcher crea una animación en la que parodia ...</td>\n",
       "      <td>Tres amigos acaban de convertirse en los nuevo...</td>\n",
       "      <td>Gülru arruinó el nuevo diseño de Gulfem.</td>\n",
       "      <td>Dan Signer</td>\n",
       "      <td>24.0</td>\n",
       "      <td>Teens</td>\n",
       "      <td>N</td>\n",
       "      <td>N</td>\n",
       "      <td>N</td>\n",
       "      <td>N</td>\n",
       "      <td>N</td>\n",
       "      <td>N</td>\n",
       "      <td>N</td>\n",
       "      <td>N</td>\n",
       "      <td>N</td>\n",
       "      <td>N</td>\n",
       "      <td>2021-02-23 10:57:32+00:00</td>\n",
       "      <td>2021-02-24 20:22:16+00:00</td>\n",
       "      <td>2021-02-17 00:00:00+00:00</td>\n",
       "      <td>2021-03-19 23:59:59+00:00</td>\n",
       "    </tr>\n",
       "    <tr>\n",
       "      <th>33142</th>\n",
       "      <td>3779</td>\n",
       "      <td>1957.0</td>\n",
       "      <td>T:2 Ep:05 Batwoman</td>\n",
       "      <td>Batwoman_T2_E05</td>\n",
       "      <td>Gore sobre lienzo</td>\n",
       "      <td>Serie</td>\n",
       "      <td>2021.0</td>\n",
       "      <td>US</td>\n",
       "      <td>Acción/Aventura</td>\n",
       "      <td>DC Comics,Superhéroes,Mujeres,Comics</td>\n",
       "      <td>La tensión aumenta en el equipo cuando Luke y ...</td>\n",
       "      <td>La tensión aumenta en el equipo cuando Luke y ...</td>\n",
       "      <td>Javicia Leslie, Rachel Skarsten, Meagan Tandy,...</td>\n",
       "      <td>Holly Dale</td>\n",
       "      <td>42.0</td>\n",
       "      <td>General</td>\n",
       "      <td>N</td>\n",
       "      <td>N</td>\n",
       "      <td>N</td>\n",
       "      <td>N</td>\n",
       "      <td>N</td>\n",
       "      <td>N</td>\n",
       "      <td>N</td>\n",
       "      <td>N</td>\n",
       "      <td>N</td>\n",
       "      <td>Y</td>\n",
       "      <td>2021-03-26 09:49:52+00:00</td>\n",
       "      <td>2021-03-26 10:06:04+00:00</td>\n",
       "      <td>2021-02-26 00:00:00+00:00</td>\n",
       "      <td>2024-01-28 23:59:00+00:00</td>\n",
       "    </tr>\n",
       "    <tr>\n",
       "      <th>33143</th>\n",
       "      <td>30238</td>\n",
       "      <td>1041.0</td>\n",
       "      <td>T:1 Ep:25 Manzana y Cebollín</td>\n",
       "      <td>Manzana_y_Ce_T1_E24</td>\n",
       "      <td>El corto de Manzana</td>\n",
       "      <td>TV</td>\n",
       "      <td>2017.0</td>\n",
       "      <td>US</td>\n",
       "      <td>Infantil/Dibujos Animados</td>\n",
       "      <td>Amigos,Travesuras</td>\n",
       "      <td>Manzana tiene que ser alto para poder enamorarse.</td>\n",
       "      <td>Manzana tiene que ser alto para poder enamorarse.</td>\n",
       "      <td>Sayed Badreya, Richard Ayoade, George Gendi</td>\n",
       "      <td>Benton Connor</td>\n",
       "      <td>11.0</td>\n",
       "      <td>Teens</td>\n",
       "      <td>N</td>\n",
       "      <td>N</td>\n",
       "      <td>N</td>\n",
       "      <td>N</td>\n",
       "      <td>N</td>\n",
       "      <td>N</td>\n",
       "      <td>N</td>\n",
       "      <td>N</td>\n",
       "      <td>N</td>\n",
       "      <td>N</td>\n",
       "      <td>2021-02-05 17:40:30+00:00</td>\n",
       "      <td>2021-02-05 21:06:06+00:00</td>\n",
       "      <td>2021-02-01 00:00:00+00:00</td>\n",
       "      <td>2021-02-28 23:59:00+00:00</td>\n",
       "    </tr>\n",
       "  </tbody>\n",
       "</table>\n",
       "</div>"
      ],
      "text/plain": [
       "       asset_id  content_id                           title  \\\n",
       "33139      3683      1979.0       T:1 Ep:03 Allen V. Farrow   \n",
       "33140     16810      1979.0       T:1 Ep:01 Allen V. Farrow   \n",
       "33141     20468       943.0  T:2 Ep:34 Programa De Talentos   \n",
       "33142      3779      1957.0              T:2 Ep:05 Batwoman   \n",
       "33143     30238      1041.0    T:1 Ep:25 Manzana y Cebollín   \n",
       "\n",
       "             reduced_title        episode_title show_type released_year  \\\n",
       "33139   Allen_V_Far_T1_E03           Episodio 3     Serie        2021.0   \n",
       "33140   Allen_V_Far_T1_E01           Episodio 1     Serie        2021.0   \n",
       "33141   Prog_De_Tal_T2_E34       El antagonista        TV        2011.0   \n",
       "33142      Batwoman_T2_E05    Gore sobre lienzo     Serie        2021.0   \n",
       "33143  Manzana_y_Ce_T1_E24  El corto de Manzana        TV        2017.0   \n",
       "\n",
       "      country_of_origin                   category  \\\n",
       "33139                US           Drama/Documental   \n",
       "33140                US           Drama/Documental   \n",
       "33141                US           Infantil/Comedia   \n",
       "33142                US            Acción/Aventura   \n",
       "33143                US  Infantil/Dibujos Animados   \n",
       "\n",
       "                                            keywords  \\\n",
       "33139  Abusos,Familia,Juicio,Hechos Reales,Miniserie   \n",
       "33140  Abusos,Familia,Juicio,Hechos Reales,Miniserie   \n",
       "33141                        Instituto,Amigos,Música   \n",
       "33142           DC Comics,Superhéroes,Mujeres,Comics   \n",
       "33143                              Amigos,Travesuras   \n",
       "\n",
       "                                             description  \\\n",
       "33139  Mientras Mia intenta proteger a Dylan del trau...   \n",
       "33140  Mia Farrow habla sobre su relación con Woody A...   \n",
       "33141  Fletcher crea una animación en la que parodia ...   \n",
       "33142  La tensión aumenta en el equipo cuando Luke y ...   \n",
       "33143  Manzana tiene que ser alto para poder enamorarse.   \n",
       "\n",
       "                                            reduced_desc  \\\n",
       "33139  El equipo legal y de relaciones públicas de Al...   \n",
       "33140  Mia Farrow habla sobre su relación con Woody A...   \n",
       "33141  Tres amigos acaban de convertirse en los nuevo...   \n",
       "33142  La tensión aumenta en el equipo cuando Luke y ...   \n",
       "33143  Manzana tiene que ser alto para poder enamorarse.   \n",
       "\n",
       "                                         cast_first_name credits_first_name  \\\n",
       "33139  Mia Farrow, Woody Allen, Dylan Farrow, Ronan F...         Dick Kirby   \n",
       "33140  Mia Farrow, Woody Allen, Dylan Farrow, Ronan F...         Dick Kirby   \n",
       "33141           Gülru arruinó el nuevo diseño de Gulfem.         Dan Signer   \n",
       "33142  Javicia Leslie, Rachel Skarsten, Meagan Tandy,...         Holly Dale   \n",
       "33143        Sayed Badreya, Richard Ayoade, George Gendi      Benton Connor   \n",
       "\n",
       "       run_time_min audience made_for_tv close_caption sex_rating  \\\n",
       "33139          64.0  General           N             N          N   \n",
       "33140          56.0  General           N             N          N   \n",
       "33141          24.0    Teens           N             N          N   \n",
       "33142          42.0  General           N             N          N   \n",
       "33143          11.0    Teens           N             N          N   \n",
       "\n",
       "      violence_rating language_rating dialog_rating fv_rating pay_per_view  \\\n",
       "33139               N               N             N         N            N   \n",
       "33140               N               N             N         N            N   \n",
       "33141               N               N             N         N            N   \n",
       "33142               N               N             N         N            N   \n",
       "33143               N               N             N         N            N   \n",
       "\n",
       "      pack_premium_1 pack_premium_2               create_date  \\\n",
       "33139              N              Y 2021-03-28 23:39:28+00:00   \n",
       "33140              N              Y 2021-03-28 23:37:17+00:00   \n",
       "33141              N              N 2021-02-23 10:57:32+00:00   \n",
       "33142              N              Y 2021-03-26 09:49:52+00:00   \n",
       "33143              N              N 2021-02-05 17:40:30+00:00   \n",
       "\n",
       "                    modify_date            start_vod_date  \\\n",
       "33139 2021-03-29 00:06:09+00:00 2021-03-07 00:00:00+00:00   \n",
       "33140 2021-03-29 00:06:01+00:00 2021-02-21 00:00:00+00:00   \n",
       "33141 2021-02-24 20:22:16+00:00 2021-02-17 00:00:00+00:00   \n",
       "33142 2021-03-26 10:06:04+00:00 2021-02-26 00:00:00+00:00   \n",
       "33143 2021-02-05 21:06:06+00:00 2021-02-01 00:00:00+00:00   \n",
       "\n",
       "                   end_vod_date  \n",
       "33139 2021-11-20 23:59:00+00:00  \n",
       "33140 2021-11-20 23:59:00+00:00  \n",
       "33141 2021-03-19 23:59:59+00:00  \n",
       "33142 2024-01-28 23:59:00+00:00  \n",
       "33143 2021-02-28 23:59:00+00:00  "
      ]
     },
     "execution_count": 3,
     "metadata": {},
     "output_type": "execute_result"
    }
   ],
   "source": [
    "df_meta = pd.read_csv('data/metadata.csv', sep=';',\n",
    "                      parse_dates=['released_year','create_date','modify_date','start_vod_date','end_vod_date'])\n",
    "print(f'df shape: {df_meta.shape}')\n",
    "df_meta.tail()"
   ]
  },
  {
   "cell_type": "markdown",
   "metadata": {
    "heading_collapsed": "true"
   },
   "source": [
    "### Nulls - df_train"
   ]
  },
  {
   "cell_type": "code",
   "execution_count": 4,
   "metadata": {},
   "outputs": [
    {
     "data": {
      "text/plain": [
       "customer_id     0\n",
       "account_id      0\n",
       "device_type    29\n",
       "asset_id       22\n",
       "tunein          0\n",
       "tuneout         0\n",
       "resume          0\n",
       "dtype: int64"
      ]
     },
     "execution_count": 4,
     "metadata": {},
     "output_type": "execute_result"
    }
   ],
   "source": [
    "df.isnull().sum()"
   ]
  },
  {
   "cell_type": "markdown",
   "metadata": {
    "heading_collapsed": "true"
   },
   "source": [
    "#### device_type"
   ]
  },
  {
   "cell_type": "code",
   "execution_count": 5,
   "metadata": {},
   "outputs": [
    {
     "data": {
      "text/html": [
       "<div>\n",
       "<style scoped>\n",
       "    .dataframe tbody tr th:only-of-type {\n",
       "        vertical-align: middle;\n",
       "    }\n",
       "\n",
       "    .dataframe tbody tr th {\n",
       "        vertical-align: top;\n",
       "    }\n",
       "\n",
       "    .dataframe thead th {\n",
       "        text-align: right;\n",
       "    }\n",
       "</style>\n",
       "<table border=\"1\" class=\"dataframe\">\n",
       "  <thead>\n",
       "    <tr style=\"text-align: right;\">\n",
       "      <th></th>\n",
       "      <th>customer_id</th>\n",
       "      <th>account_id</th>\n",
       "      <th>device_type</th>\n",
       "      <th>asset_id</th>\n",
       "      <th>tunein</th>\n",
       "      <th>tuneout</th>\n",
       "      <th>resume</th>\n",
       "    </tr>\n",
       "  </thead>\n",
       "  <tbody>\n",
       "    <tr>\n",
       "      <th>528885</th>\n",
       "      <td>18693</td>\n",
       "      <td>105629</td>\n",
       "      <td>NaN</td>\n",
       "      <td>10939.0</td>\n",
       "      <td>2021-01-17 16:04:00</td>\n",
       "      <td>2021-01-17 17:07:00</td>\n",
       "      <td>0</td>\n",
       "    </tr>\n",
       "    <tr>\n",
       "      <th>666823</th>\n",
       "      <td>23439</td>\n",
       "      <td>6012</td>\n",
       "      <td>NaN</td>\n",
       "      <td>6371.0</td>\n",
       "      <td>2021-01-17 21:55:00</td>\n",
       "      <td>2021-01-17 21:58:00</td>\n",
       "      <td>0</td>\n",
       "    </tr>\n",
       "    <tr>\n",
       "      <th>737730</th>\n",
       "      <td>25729</td>\n",
       "      <td>46974</td>\n",
       "      <td>NaN</td>\n",
       "      <td>3481.0</td>\n",
       "      <td>2021-01-13 11:30:00</td>\n",
       "      <td>2021-01-13 11:33:00</td>\n",
       "      <td>0</td>\n",
       "    </tr>\n",
       "    <tr>\n",
       "      <th>737731</th>\n",
       "      <td>25729</td>\n",
       "      <td>46974</td>\n",
       "      <td>NaN</td>\n",
       "      <td>3481.0</td>\n",
       "      <td>2021-01-13 11:33:00</td>\n",
       "      <td>2021-01-13 11:36:00</td>\n",
       "      <td>0</td>\n",
       "    </tr>\n",
       "    <tr>\n",
       "      <th>737732</th>\n",
       "      <td>25729</td>\n",
       "      <td>46974</td>\n",
       "      <td>NaN</td>\n",
       "      <td>3481.0</td>\n",
       "      <td>2021-01-13 11:36:00</td>\n",
       "      <td>2021-01-13 12:36:00</td>\n",
       "      <td>0</td>\n",
       "    </tr>\n",
       "  </tbody>\n",
       "</table>\n",
       "</div>"
      ],
      "text/plain": [
       "        customer_id  account_id device_type  asset_id              tunein  \\\n",
       "528885        18693      105629         NaN   10939.0 2021-01-17 16:04:00   \n",
       "666823        23439        6012         NaN    6371.0 2021-01-17 21:55:00   \n",
       "737730        25729       46974         NaN    3481.0 2021-01-13 11:30:00   \n",
       "737731        25729       46974         NaN    3481.0 2021-01-13 11:33:00   \n",
       "737732        25729       46974         NaN    3481.0 2021-01-13 11:36:00   \n",
       "\n",
       "                   tuneout  resume  \n",
       "528885 2021-01-17 17:07:00       0  \n",
       "666823 2021-01-17 21:58:00       0  \n",
       "737730 2021-01-13 11:33:00       0  \n",
       "737731 2021-01-13 11:36:00       0  \n",
       "737732 2021-01-13 12:36:00       0  "
      ]
     },
     "execution_count": 5,
     "metadata": {},
     "output_type": "execute_result"
    }
   ],
   "source": [
    "df[df.device_type.isnull()].iloc[:5]"
   ]
  },
  {
   "cell_type": "code",
   "execution_count": 6,
   "metadata": {},
   "outputs": [
    {
     "data": {
      "text/plain": [
       "account_id\n",
       "6012      False\n",
       "6983      False\n",
       "14892     False\n",
       "17621     False\n",
       "25402     False\n",
       "46974     False\n",
       "52544     False\n",
       "71627     False\n",
       "74384     False\n",
       "82302     False\n",
       "100979    False\n",
       "101874    False\n",
       "102111    False\n",
       "105629    False\n",
       "108985    False\n",
       "110083     True\n",
       "Name: device_type, dtype: bool"
      ]
     },
     "execution_count": 6,
     "metadata": {},
     "output_type": "execute_result"
    }
   ],
   "source": [
    "# Vemos si hay usuarios con solo esos registros nulos\n",
    "\n",
    "users_with_null_devices = df[df.account_id.isin(df[df.device_type.isnull()].account_id)].groupby('account_id')['device_type'].agg(lambda x: x.isnull().all())\n",
    "users_with_null_devices"
   ]
  },
  {
   "cell_type": "markdown",
   "metadata": {},
   "source": [
    "El usuario **110083** solo aparece sin *device_type*.   "
   ]
  },
  {
   "cell_type": "code",
   "execution_count": 7,
   "metadata": {},
   "outputs": [],
   "source": [
    "# Vamos a completar ese usuario (110083) con el *device_type* mas comun (moda)\n",
    "users_without_any_device = users_with_null_devices[users_with_null_devices == True].index.values\n",
    "df.loc[df.account_id.isin(users_without_any_device),\n",
    "       'device_type'] = df.device_type.mode().values[0]\n",
    "\n",
    "# Vamos los demas nulls con la moda el *device_type* moda de cada user\n",
    "users_with_device = users_with_null_devices[users_with_null_devices == False].index.values\n",
    "device_by_user = df[(df.account_id.isin(users_with_device))].groupby('account_id')['device_type'].agg(lambda x: x.mode()[0])\n",
    "\n",
    "for user_id, device_type in device_by_user.items():\n",
    "    df.loc[(df.account_id == user_id) & (df.device_type.isnull()), 'device_type'] = device_type"
   ]
  },
  {
   "cell_type": "markdown",
   "metadata": {
    "heading_collapsed": "true"
   },
   "source": [
    "#### asset_id"
   ]
  },
  {
   "cell_type": "code",
   "execution_count": 8,
   "metadata": {},
   "outputs": [
    {
     "data": {
      "text/html": [
       "<div>\n",
       "<style scoped>\n",
       "    .dataframe tbody tr th:only-of-type {\n",
       "        vertical-align: middle;\n",
       "    }\n",
       "\n",
       "    .dataframe tbody tr th {\n",
       "        vertical-align: top;\n",
       "    }\n",
       "\n",
       "    .dataframe thead th {\n",
       "        text-align: right;\n",
       "    }\n",
       "</style>\n",
       "<table border=\"1\" class=\"dataframe\">\n",
       "  <thead>\n",
       "    <tr style=\"text-align: right;\">\n",
       "      <th></th>\n",
       "      <th>customer_id</th>\n",
       "      <th>account_id</th>\n",
       "      <th>device_type</th>\n",
       "      <th>asset_id</th>\n",
       "      <th>tunein</th>\n",
       "      <th>tuneout</th>\n",
       "      <th>resume</th>\n",
       "    </tr>\n",
       "  </thead>\n",
       "  <tbody>\n",
       "    <tr>\n",
       "      <th>106890</th>\n",
       "      <td>3746</td>\n",
       "      <td>28992</td>\n",
       "      <td>STB</td>\n",
       "      <td>NaN</td>\n",
       "      <td>2021-03-20 12:50:00</td>\n",
       "      <td>2021-03-20 12:52:00</td>\n",
       "      <td>1</td>\n",
       "    </tr>\n",
       "    <tr>\n",
       "      <th>120175</th>\n",
       "      <td>4277</td>\n",
       "      <td>29416</td>\n",
       "      <td>STB</td>\n",
       "      <td>NaN</td>\n",
       "      <td>2021-03-16 00:29:00</td>\n",
       "      <td>2021-03-16 00:36:00</td>\n",
       "      <td>0</td>\n",
       "    </tr>\n",
       "    <tr>\n",
       "      <th>146642</th>\n",
       "      <td>5174</td>\n",
       "      <td>30114</td>\n",
       "      <td>STB</td>\n",
       "      <td>NaN</td>\n",
       "      <td>2021-03-28 22:35:00</td>\n",
       "      <td>2021-03-28 22:39:00</td>\n",
       "      <td>0</td>\n",
       "    </tr>\n",
       "    <tr>\n",
       "      <th>219038</th>\n",
       "      <td>7685</td>\n",
       "      <td>32112</td>\n",
       "      <td>STB</td>\n",
       "      <td>NaN</td>\n",
       "      <td>2021-03-20 21:15:00</td>\n",
       "      <td>2021-03-20 21:55:00</td>\n",
       "      <td>0</td>\n",
       "    </tr>\n",
       "    <tr>\n",
       "      <th>249196</th>\n",
       "      <td>8809</td>\n",
       "      <td>33030</td>\n",
       "      <td>PHONE</td>\n",
       "      <td>NaN</td>\n",
       "      <td>2021-03-20 15:16:00</td>\n",
       "      <td>2021-03-20 15:18:00</td>\n",
       "      <td>0</td>\n",
       "    </tr>\n",
       "  </tbody>\n",
       "</table>\n",
       "</div>"
      ],
      "text/plain": [
       "        customer_id  account_id device_type  asset_id              tunein  \\\n",
       "106890         3746       28992         STB       NaN 2021-03-20 12:50:00   \n",
       "120175         4277       29416         STB       NaN 2021-03-16 00:29:00   \n",
       "146642         5174       30114         STB       NaN 2021-03-28 22:35:00   \n",
       "219038         7685       32112         STB       NaN 2021-03-20 21:15:00   \n",
       "249196         8809       33030       PHONE       NaN 2021-03-20 15:16:00   \n",
       "\n",
       "                   tuneout  resume  \n",
       "106890 2021-03-20 12:52:00       1  \n",
       "120175 2021-03-16 00:36:00       0  \n",
       "146642 2021-03-28 22:39:00       0  \n",
       "219038 2021-03-20 21:55:00       0  \n",
       "249196 2021-03-20 15:18:00       0  "
      ]
     },
     "execution_count": 8,
     "metadata": {},
     "output_type": "execute_result"
    }
   ],
   "source": [
    "df[df.asset_id.isnull()].iloc[:5]"
   ]
  },
  {
   "cell_type": "code",
   "execution_count": 9,
   "metadata": {},
   "outputs": [
    {
     "data": {
      "text/plain": [
       "account_id\n",
       "10784     False\n",
       "13058     False\n",
       "21345     False\n",
       "23657     False\n",
       "24742     False\n",
       "28992     False\n",
       "29416      True\n",
       "30114     False\n",
       "32112     False\n",
       "33030     False\n",
       "39757     False\n",
       "46629     False\n",
       "50616     False\n",
       "56086     False\n",
       "60401     False\n",
       "62625     False\n",
       "71182     False\n",
       "76218     False\n",
       "76429     False\n",
       "86969     False\n",
       "91253      True\n",
       "108646    False\n",
       "Name: asset_id, dtype: bool"
      ]
     },
     "execution_count": 9,
     "metadata": {},
     "output_type": "execute_result"
    }
   ],
   "source": [
    "# Vemos si hay usuarios con solo esos registros nulos\n",
    "\n",
    "users_with_null_asset = df[df.account_id.isin(df[df.asset_id.isnull()].account_id)].groupby('account_id')['asset_id'].agg(lambda x: x.isnull().all())\n",
    "users_with_null_asset"
   ]
  },
  {
   "cell_type": "code",
   "execution_count": 10,
   "metadata": {},
   "outputs": [],
   "source": [
    "# Vamos a completar los usuarios (29416, 91253) con el *asset_id* mas comun (moda)\n",
    "\n",
    "users_without_any_asset = users_with_null_asset[users_with_null_asset == True].index.values\n",
    "df.loc[df.account_id.isin(users_without_any_asset) & (df.asset_id.isnull()), 'asset_id'] = df.asset_id.mode()[0]\n",
    "\n",
    "# Vamos a completar los demas usuarios con la moda de cada uno\n",
    "users_with_asset = users_with_null_asset[users_with_null_asset == False].index.values\n",
    "asset_by_user = df[(df.account_id.isin(users_with_asset))].groupby('account_id')['asset_id'].agg(lambda x: x.mode()[0])\n",
    "\n",
    "for user_id, asset_id in asset_by_user.items():\n",
    "    df.loc[(df.account_id == user_id) & (df.asset_id.isnull()), 'asset_id'] = asset_id"
   ]
  },
  {
   "cell_type": "code",
   "execution_count": 11,
   "metadata": {},
   "outputs": [
    {
     "data": {
      "text/plain": [
       "False"
      ]
     },
     "execution_count": 11,
     "metadata": {},
     "output_type": "execute_result"
    }
   ],
   "source": [
    "# chequeamos que no queden nulls\n",
    "\n",
    "df.isnull().sum().any()"
   ]
  },
  {
   "cell_type": "markdown",
   "metadata": {
    "heading_collapsed": "true"
   },
   "source": [
    "### Nulls - df_meta"
   ]
  },
  {
   "cell_type": "code",
   "execution_count": 12,
   "metadata": {},
   "outputs": [
    {
     "data": {
      "text/plain": [
       "credits_first_name    12554\n",
       "cast_first_name        8732\n",
       "episode_title          4147\n",
       "content_id               21\n",
       "show_type                 4\n",
       "country_of_origin         4\n",
       "keywords                  2\n",
       "description               2\n",
       "audience                  1\n",
       "end_vod_date              0\n",
       "title                     0\n",
       "reduced_title             0\n",
       "released_year             0\n",
       "category                  0\n",
       "reduced_desc              0\n",
       "run_time_min              0\n",
       "start_vod_date            0\n",
       "made_for_tv               0\n",
       "close_caption             0\n",
       "sex_rating                0\n",
       "violence_rating           0\n",
       "language_rating           0\n",
       "dialog_rating             0\n",
       "fv_rating                 0\n",
       "pay_per_view              0\n",
       "pack_premium_1            0\n",
       "pack_premium_2            0\n",
       "create_date               0\n",
       "modify_date               0\n",
       "asset_id                  0\n",
       "dtype: int64"
      ]
     },
     "execution_count": 12,
     "metadata": {},
     "output_type": "execute_result"
    }
   ],
   "source": [
    "df_meta.isnull().sum().sort_values(ascending=False)"
   ]
  },
  {
   "cell_type": "markdown",
   "metadata": {
    "heading_collapsed": "true"
   },
   "source": [
    "#### credits_first_name"
   ]
  },
  {
   "cell_type": "code",
   "execution_count": 13,
   "metadata": {},
   "outputs": [
    {
     "data": {
      "text/plain": [
       "0           Daniel Barone\n",
       "1    Juan Carlos Maneglia\n",
       "2        Marko Mäkilaakso\n",
       "3         Sebastián Lelio\n",
       "4             J.J. Abrams\n",
       "Name: credits_first_name, dtype: object"
      ]
     },
     "execution_count": 13,
     "metadata": {},
     "output_type": "execute_result"
    }
   ],
   "source": [
    "df_meta.credits_first_name.iloc[:5]"
   ]
  },
  {
   "cell_type": "code",
   "execution_count": 14,
   "metadata": {},
   "outputs": [],
   "source": [
    "# Para simplificar vamos a llenar con \"unknow-director\" los nulls\n",
    "\n",
    "df_meta.credits_first_name.fillna(\"unknow-director\", inplace=True)"
   ]
  },
  {
   "cell_type": "markdown",
   "metadata": {
    "heading_collapsed": "true"
   },
   "source": [
    "#### cast_first_name"
   ]
  },
  {
   "cell_type": "code",
   "execution_count": 15,
   "metadata": {},
   "outputs": [
    {
     "data": {
      "text/plain": [
       "0    Rodrigo De la Serna, Paola Krum, Fernán Mirás,...\n",
       "1             Celso Franco, Víctor Sosa, Lali Gonzalez\n",
       "2    Mark Arnold, Harry Lister Smith, Vanessa Grass...\n",
       "3    Daniela Vega, Francisco Reyes, Luis Gnecco, Am...\n",
       "4    Chris Pine, Zachary Quinto, Leonard Nimoy, Eri...\n",
       "Name: cast_first_name, dtype: object"
      ]
     },
     "execution_count": 15,
     "metadata": {},
     "output_type": "execute_result"
    }
   ],
   "source": [
    "df_meta.cast_first_name.iloc[:5]"
   ]
  },
  {
   "cell_type": "code",
   "execution_count": 16,
   "metadata": {},
   "outputs": [
    {
     "data": {
      "text/plain": [
       "True"
      ]
     },
     "execution_count": 16,
     "metadata": {},
     "output_type": "execute_result"
    }
   ],
   "source": [
    "# veamos si podemos copiar el director desde otros contenidos\n",
    "\n",
    "# chequemos si todos los registros de ese contenido tienen valores nullos\n",
    "df_meta[df_meta.cast_first_name.isnull()].groupby('content_id')['cast_first_name'].agg(lambda x: x.isnull().all()).all()"
   ]
  },
  {
   "cell_type": "code",
   "execution_count": 17,
   "metadata": {},
   "outputs": [],
   "source": [
    "# Para simplificar vamos a llenar con \"unknow-actors\" los nulls\n",
    "\n",
    "df_meta.cast_first_name.fillna(\"unknow-actors\", inplace=True)"
   ]
  },
  {
   "cell_type": "markdown",
   "metadata": {
    "heading_collapsed": "true"
   },
   "source": [
    "#### episode_title"
   ]
  },
  {
   "cell_type": "code",
   "execution_count": 18,
   "metadata": {},
   "outputs": [
    {
     "data": {
      "text/html": [
       "<div>\n",
       "<style scoped>\n",
       "    .dataframe tbody tr th:only-of-type {\n",
       "        vertical-align: middle;\n",
       "    }\n",
       "\n",
       "    .dataframe tbody tr th {\n",
       "        vertical-align: top;\n",
       "    }\n",
       "\n",
       "    .dataframe thead th {\n",
       "        text-align: right;\n",
       "    }\n",
       "</style>\n",
       "<table border=\"1\" class=\"dataframe\">\n",
       "  <thead>\n",
       "    <tr style=\"text-align: right;\">\n",
       "      <th></th>\n",
       "      <th>reduced_title</th>\n",
       "      <th>episode_title</th>\n",
       "    </tr>\n",
       "  </thead>\n",
       "  <tbody>\n",
       "    <tr>\n",
       "      <th>0</th>\n",
       "      <td>Tiempos_Compul_E17</td>\n",
       "      <td>Episodio 17</td>\n",
       "    </tr>\n",
       "    <tr>\n",
       "      <th>1</th>\n",
       "      <td>7_Cajas</td>\n",
       "      <td>NaN</td>\n",
       "    </tr>\n",
       "    <tr>\n",
       "      <th>2</th>\n",
       "      <td>La_Maldicion_de_las</td>\n",
       "      <td>NaN</td>\n",
       "    </tr>\n",
       "    <tr>\n",
       "      <th>3</th>\n",
       "      <td>Una_Mujer_Fantastic</td>\n",
       "      <td>NaN</td>\n",
       "    </tr>\n",
       "    <tr>\n",
       "      <th>4</th>\n",
       "      <td>Star_Trek</td>\n",
       "      <td>NaN</td>\n",
       "    </tr>\n",
       "  </tbody>\n",
       "</table>\n",
       "</div>"
      ],
      "text/plain": [
       "         reduced_title episode_title\n",
       "0   Tiempos_Compul_E17   Episodio 17\n",
       "1              7_Cajas           NaN\n",
       "2  La_Maldicion_de_las           NaN\n",
       "3  Una_Mujer_Fantastic           NaN\n",
       "4            Star_Trek           NaN"
      ]
     },
     "execution_count": 18,
     "metadata": {},
     "output_type": "execute_result"
    }
   ],
   "source": [
    "df_meta[['reduced_title', 'episode_title']].iloc[:5]"
   ]
  },
  {
   "cell_type": "markdown",
   "metadata": {},
   "source": [
    "- Esta variable no parece relevante, ya que nos piden recomendar contenido y no episodios de una misma serie. Se borra"
   ]
  },
  {
   "cell_type": "code",
   "execution_count": 19,
   "metadata": {},
   "outputs": [],
   "source": [
    "df_meta.drop(columns=['episode_title'], inplace=True)"
   ]
  },
  {
   "cell_type": "markdown",
   "metadata": {
    "heading_collapsed": "true"
   },
   "source": [
    "#### content_id"
   ]
  },
  {
   "cell_type": "code",
   "execution_count": 20,
   "metadata": {},
   "outputs": [
    {
     "data": {
      "text/plain": [
       "array(['Tutorial'], dtype=object)"
      ]
     },
     "execution_count": 20,
     "metadata": {},
     "output_type": "execute_result"
    }
   ],
   "source": [
    "df_meta[df_meta.content_id.isnull()].show_type.unique()"
   ]
  },
  {
   "cell_type": "markdown",
   "metadata": {},
   "source": [
    "- Vemos que todos los `content_id` nulos son de tutoriales de flow. Vamos a borrar esos datos pero guardamos los `asset_id`"
   ]
  },
  {
   "cell_type": "code",
   "execution_count": 21,
   "metadata": {},
   "outputs": [],
   "source": [
    "assets_dropped = df_meta[df_meta.content_id.isnull()].asset_id.unique()"
   ]
  },
  {
   "cell_type": "code",
   "execution_count": 22,
   "metadata": {},
   "outputs": [],
   "source": [
    "\n",
    "df_meta.drop(df_meta[df_meta.content_id.isnull()].index, inplace=True)"
   ]
  },
  {
   "cell_type": "markdown",
   "metadata": {
    "heading_collapsed": "true"
   },
   "source": [
    "#### show_type"
   ]
  },
  {
   "cell_type": "code",
   "execution_count": 23,
   "metadata": {},
   "outputs": [
    {
     "data": {
      "text/plain": [
       "TV              15681\n",
       "Serie           10905\n",
       "Película         4025\n",
       "Web              1386\n",
       "Gaming            844\n",
       "Rolling           275\n",
       "Series,Serie        3\n",
       "Name: show_type, dtype: int64"
      ]
     },
     "execution_count": 23,
     "metadata": {},
     "output_type": "execute_result"
    }
   ],
   "source": [
    "df_meta.show_type.value_counts()"
   ]
  },
  {
   "cell_type": "code",
   "execution_count": 24,
   "metadata": {},
   "outputs": [
    {
     "data": {
      "text/html": [
       "<div>\n",
       "<style scoped>\n",
       "    .dataframe tbody tr th:only-of-type {\n",
       "        vertical-align: middle;\n",
       "    }\n",
       "\n",
       "    .dataframe tbody tr th {\n",
       "        vertical-align: top;\n",
       "    }\n",
       "\n",
       "    .dataframe thead th {\n",
       "        text-align: right;\n",
       "    }\n",
       "</style>\n",
       "<table border=\"1\" class=\"dataframe\">\n",
       "  <thead>\n",
       "    <tr style=\"text-align: right;\">\n",
       "      <th></th>\n",
       "      <th>asset_id</th>\n",
       "      <th>content_id</th>\n",
       "      <th>title</th>\n",
       "      <th>reduced_title</th>\n",
       "      <th>show_type</th>\n",
       "      <th>released_year</th>\n",
       "      <th>country_of_origin</th>\n",
       "      <th>category</th>\n",
       "      <th>keywords</th>\n",
       "      <th>description</th>\n",
       "      <th>reduced_desc</th>\n",
       "      <th>cast_first_name</th>\n",
       "      <th>credits_first_name</th>\n",
       "      <th>run_time_min</th>\n",
       "      <th>audience</th>\n",
       "      <th>made_for_tv</th>\n",
       "      <th>close_caption</th>\n",
       "      <th>sex_rating</th>\n",
       "      <th>violence_rating</th>\n",
       "      <th>language_rating</th>\n",
       "      <th>dialog_rating</th>\n",
       "      <th>fv_rating</th>\n",
       "      <th>pay_per_view</th>\n",
       "      <th>pack_premium_1</th>\n",
       "      <th>pack_premium_2</th>\n",
       "      <th>create_date</th>\n",
       "      <th>modify_date</th>\n",
       "      <th>start_vod_date</th>\n",
       "      <th>end_vod_date</th>\n",
       "    </tr>\n",
       "  </thead>\n",
       "  <tbody>\n",
       "    <tr>\n",
       "      <th>3187</th>\n",
       "      <td>14004</td>\n",
       "      <td>9.0</td>\n",
       "      <td>Star Trek: En la oscuridad</td>\n",
       "      <td>Star_Trek__En_la_os</td>\n",
       "      <td>NaN</td>\n",
       "      <td>2013.0</td>\n",
       "      <td>US</td>\n",
       "      <td>Acción/Ciencia Ficción</td>\n",
       "      <td>Aventuras,Saga,Futurismo,Galaxia,Criaturas,Ali...</td>\n",
       "      <td>La tripulación de la nave Enterprise recibe la...</td>\n",
       "      <td>La tripulación de la Enterprise recibe la orde...</td>\n",
       "      <td>Chris Pine, Zachary Quinto, Zoe Saldana, Bened...</td>\n",
       "      <td>J.J. Abrams</td>\n",
       "      <td>132.0</td>\n",
       "      <td>General</td>\n",
       "      <td>N</td>\n",
       "      <td>N</td>\n",
       "      <td>N</td>\n",
       "      <td>N</td>\n",
       "      <td>N</td>\n",
       "      <td>N</td>\n",
       "      <td>N</td>\n",
       "      <td>N</td>\n",
       "      <td>N</td>\n",
       "      <td>N</td>\n",
       "      <td>2020-11-16 21:16:01+00:00</td>\n",
       "      <td>2020-12-09 17:10:20+00:00</td>\n",
       "      <td>2020-11-20 00:00:00+00:00</td>\n",
       "      <td>2020-12-14 23:59:59+00:00</td>\n",
       "    </tr>\n",
       "    <tr>\n",
       "      <th>6421</th>\n",
       "      <td>11154</td>\n",
       "      <td>948.0</td>\n",
       "      <td>Un verano en pantalones</td>\n",
       "      <td>Un_Verano_En_Pantal</td>\n",
       "      <td>NaN</td>\n",
       "      <td>2005.0</td>\n",
       "      <td>US</td>\n",
       "      <td>Comedia</td>\n",
       "      <td>Mujeres,De Libros,Amigos,Viajes</td>\n",
       "      <td>Cuatro mejores amigas traman un plan para mant...</td>\n",
       "      <td>Cuatro mejores amigas traman un plan para mant...</td>\n",
       "      <td>Amber Tamblyn, Alexis Bledel, America Ferrera,...</td>\n",
       "      <td>Ken Kwapis</td>\n",
       "      <td>131.0</td>\n",
       "      <td>Mujeres</td>\n",
       "      <td>N</td>\n",
       "      <td>N</td>\n",
       "      <td>N</td>\n",
       "      <td>N</td>\n",
       "      <td>N</td>\n",
       "      <td>N</td>\n",
       "      <td>N</td>\n",
       "      <td>N</td>\n",
       "      <td>N</td>\n",
       "      <td>N</td>\n",
       "      <td>2020-12-29 18:10:46+00:00</td>\n",
       "      <td>2020-12-29 20:06:05+00:00</td>\n",
       "      <td>2020-12-02 00:00:00+00:00</td>\n",
       "      <td>2021-01-01 23:59:00+00:00</td>\n",
       "    </tr>\n",
       "    <tr>\n",
       "      <th>7674</th>\n",
       "      <td>27728</td>\n",
       "      <td>9.0</td>\n",
       "      <td>Star Trek: En la oscuridad</td>\n",
       "      <td>Star_Trek_En_la_DOB</td>\n",
       "      <td>NaN</td>\n",
       "      <td>2013.0</td>\n",
       "      <td>US</td>\n",
       "      <td>Acción/Ciencia Ficción</td>\n",
       "      <td>Aventuras,Saga,Futurismo,Galaxia,Criaturas,Ali...</td>\n",
       "      <td>La tripulación de la nave Enterprise recibe la...</td>\n",
       "      <td>La tripulación de la Enterprise recibe la orde...</td>\n",
       "      <td>Chris Pine, Zachary Quinto, Zoe Saldana, Bened...</td>\n",
       "      <td>J.J. Abrams</td>\n",
       "      <td>132.0</td>\n",
       "      <td>General</td>\n",
       "      <td>N</td>\n",
       "      <td>N</td>\n",
       "      <td>N</td>\n",
       "      <td>N</td>\n",
       "      <td>N</td>\n",
       "      <td>N</td>\n",
       "      <td>N</td>\n",
       "      <td>N</td>\n",
       "      <td>N</td>\n",
       "      <td>N</td>\n",
       "      <td>2020-12-11 15:09:21+00:00</td>\n",
       "      <td>2020-12-24 15:06:09+00:00</td>\n",
       "      <td>2020-12-15 00:00:00+00:00</td>\n",
       "      <td>2022-11-20 23:59:00+00:00</td>\n",
       "    </tr>\n",
       "    <tr>\n",
       "      <th>32927</th>\n",
       "      <td>24509</td>\n",
       "      <td>4315.0</td>\n",
       "      <td>El día que el deporte se detuvo</td>\n",
       "      <td>El_dia_que_el_depor</td>\n",
       "      <td>NaN</td>\n",
       "      <td>2021.0</td>\n",
       "      <td>US</td>\n",
       "      <td>Documental/Deporte</td>\n",
       "      <td>Pandemias,Deportistas,De Color,Sociedad</td>\n",
       "      <td>Documental original de HBO. Antoine Fuqua, rel...</td>\n",
       "      <td>Documental original de HBO que cuenta la histo...</td>\n",
       "      <td>unknow-actors</td>\n",
       "      <td>Antoine Fuqua</td>\n",
       "      <td>85.0</td>\n",
       "      <td>General</td>\n",
       "      <td>N</td>\n",
       "      <td>N</td>\n",
       "      <td>N</td>\n",
       "      <td>N</td>\n",
       "      <td>N</td>\n",
       "      <td>N</td>\n",
       "      <td>N</td>\n",
       "      <td>N</td>\n",
       "      <td>N</td>\n",
       "      <td>Y</td>\n",
       "      <td>2021-03-29 16:16:36+00:00</td>\n",
       "      <td>2021-03-29 17:06:04+00:00</td>\n",
       "      <td>2021-03-24 00:00:00+00:00</td>\n",
       "      <td>2022-01-10 23:59:00+00:00</td>\n",
       "    </tr>\n",
       "  </tbody>\n",
       "</table>\n",
       "</div>"
      ],
      "text/plain": [
       "       asset_id  content_id                            title  \\\n",
       "3187      14004         9.0       Star Trek: En la oscuridad   \n",
       "6421      11154       948.0          Un verano en pantalones   \n",
       "7674      27728         9.0       Star Trek: En la oscuridad   \n",
       "32927     24509      4315.0  El día que el deporte se detuvo   \n",
       "\n",
       "             reduced_title show_type released_year country_of_origin  \\\n",
       "3187   Star_Trek__En_la_os       NaN        2013.0                US   \n",
       "6421   Un_Verano_En_Pantal       NaN        2005.0                US   \n",
       "7674   Star_Trek_En_la_DOB       NaN        2013.0                US   \n",
       "32927  El_dia_que_el_depor       NaN        2021.0                US   \n",
       "\n",
       "                     category  \\\n",
       "3187   Acción/Ciencia Ficción   \n",
       "6421                  Comedia   \n",
       "7674   Acción/Ciencia Ficción   \n",
       "32927      Documental/Deporte   \n",
       "\n",
       "                                                keywords  \\\n",
       "3187   Aventuras,Saga,Futurismo,Galaxia,Criaturas,Ali...   \n",
       "6421                     Mujeres,De Libros,Amigos,Viajes   \n",
       "7674   Aventuras,Saga,Futurismo,Galaxia,Criaturas,Ali...   \n",
       "32927            Pandemias,Deportistas,De Color,Sociedad   \n",
       "\n",
       "                                             description  \\\n",
       "3187   La tripulación de la nave Enterprise recibe la...   \n",
       "6421   Cuatro mejores amigas traman un plan para mant...   \n",
       "7674   La tripulación de la nave Enterprise recibe la...   \n",
       "32927  Documental original de HBO. Antoine Fuqua, rel...   \n",
       "\n",
       "                                            reduced_desc  \\\n",
       "3187   La tripulación de la Enterprise recibe la orde...   \n",
       "6421   Cuatro mejores amigas traman un plan para mant...   \n",
       "7674   La tripulación de la Enterprise recibe la orde...   \n",
       "32927  Documental original de HBO que cuenta la histo...   \n",
       "\n",
       "                                         cast_first_name credits_first_name  \\\n",
       "3187   Chris Pine, Zachary Quinto, Zoe Saldana, Bened...        J.J. Abrams   \n",
       "6421   Amber Tamblyn, Alexis Bledel, America Ferrera,...         Ken Kwapis   \n",
       "7674   Chris Pine, Zachary Quinto, Zoe Saldana, Bened...        J.J. Abrams   \n",
       "32927                                      unknow-actors      Antoine Fuqua   \n",
       "\n",
       "       run_time_min audience made_for_tv close_caption sex_rating  \\\n",
       "3187          132.0  General           N             N          N   \n",
       "6421          131.0  Mujeres           N             N          N   \n",
       "7674          132.0  General           N             N          N   \n",
       "32927          85.0  General           N             N          N   \n",
       "\n",
       "      violence_rating language_rating dialog_rating fv_rating pay_per_view  \\\n",
       "3187                N               N             N         N            N   \n",
       "6421                N               N             N         N            N   \n",
       "7674                N               N             N         N            N   \n",
       "32927               N               N             N         N            N   \n",
       "\n",
       "      pack_premium_1 pack_premium_2               create_date  \\\n",
       "3187               N              N 2020-11-16 21:16:01+00:00   \n",
       "6421               N              N 2020-12-29 18:10:46+00:00   \n",
       "7674               N              N 2020-12-11 15:09:21+00:00   \n",
       "32927              N              Y 2021-03-29 16:16:36+00:00   \n",
       "\n",
       "                    modify_date            start_vod_date  \\\n",
       "3187  2020-12-09 17:10:20+00:00 2020-11-20 00:00:00+00:00   \n",
       "6421  2020-12-29 20:06:05+00:00 2020-12-02 00:00:00+00:00   \n",
       "7674  2020-12-24 15:06:09+00:00 2020-12-15 00:00:00+00:00   \n",
       "32927 2021-03-29 17:06:04+00:00 2021-03-24 00:00:00+00:00   \n",
       "\n",
       "                   end_vod_date  \n",
       "3187  2020-12-14 23:59:59+00:00  \n",
       "6421  2021-01-01 23:59:00+00:00  \n",
       "7674  2022-11-20 23:59:00+00:00  \n",
       "32927 2022-01-10 23:59:00+00:00  "
      ]
     },
     "execution_count": 24,
     "metadata": {},
     "output_type": "execute_result"
    }
   ],
   "source": [
    "df_meta[df_meta.show_type.isnull()]"
   ]
  },
  {
   "cell_type": "markdown",
   "metadata": {},
   "source": [
    "- Vamos a completar de 1 dado que son pocos registros nulos"
   ]
  },
  {
   "cell_type": "code",
   "execution_count": 25,
   "metadata": {},
   "outputs": [],
   "source": [
    "# \"Star Trek: En la oscuridad\" es una \"pelicula\"\n",
    "\n",
    "df_meta.loc[(df_meta.show_type.isnull()) & (df_meta.content_id == 9), 'show_type'] = 'Película'\n",
    "\n",
    "# \"Un verano en pantalones\" es una \"pelicula\"\n",
    "df_meta.loc[(df_meta.show_type.isnull()) & (df_meta.content_id == 948), 'show_type'] = 'Película'\n",
    "\n",
    "# \"El día que el deporte se detuvo\" es una \"Documental\" completamos con \"pelicula\" tambien\n",
    "df_meta.loc[(df_meta.show_type.isnull()) & (df_meta.content_id == 4315.0), 'show_type'] = 'Película'"
   ]
  },
  {
   "cell_type": "markdown",
   "metadata": {
    "heading_collapsed": "true"
   },
   "source": [
    "#### country_of_origin"
   ]
  },
  {
   "cell_type": "code",
   "execution_count": 26,
   "metadata": {},
   "outputs": [
    {
     "data": {
      "text/html": [
       "<div>\n",
       "<style scoped>\n",
       "    .dataframe tbody tr th:only-of-type {\n",
       "        vertical-align: middle;\n",
       "    }\n",
       "\n",
       "    .dataframe tbody tr th {\n",
       "        vertical-align: top;\n",
       "    }\n",
       "\n",
       "    .dataframe thead th {\n",
       "        text-align: right;\n",
       "    }\n",
       "</style>\n",
       "<table border=\"1\" class=\"dataframe\">\n",
       "  <thead>\n",
       "    <tr style=\"text-align: right;\">\n",
       "      <th></th>\n",
       "      <th>asset_id</th>\n",
       "      <th>content_id</th>\n",
       "      <th>title</th>\n",
       "      <th>reduced_title</th>\n",
       "      <th>show_type</th>\n",
       "      <th>released_year</th>\n",
       "      <th>country_of_origin</th>\n",
       "      <th>category</th>\n",
       "      <th>keywords</th>\n",
       "      <th>description</th>\n",
       "      <th>reduced_desc</th>\n",
       "      <th>cast_first_name</th>\n",
       "      <th>credits_first_name</th>\n",
       "      <th>run_time_min</th>\n",
       "      <th>audience</th>\n",
       "      <th>made_for_tv</th>\n",
       "      <th>close_caption</th>\n",
       "      <th>sex_rating</th>\n",
       "      <th>violence_rating</th>\n",
       "      <th>language_rating</th>\n",
       "      <th>dialog_rating</th>\n",
       "      <th>fv_rating</th>\n",
       "      <th>pay_per_view</th>\n",
       "      <th>pack_premium_1</th>\n",
       "      <th>pack_premium_2</th>\n",
       "      <th>create_date</th>\n",
       "      <th>modify_date</th>\n",
       "      <th>start_vod_date</th>\n",
       "      <th>end_vod_date</th>\n",
       "    </tr>\n",
       "  </thead>\n",
       "  <tbody>\n",
       "    <tr>\n",
       "      <th>7287</th>\n",
       "      <td>31314</td>\n",
       "      <td>1124.0</td>\n",
       "      <td>T:6 Ep:06 Dr. Pol</td>\n",
       "      <td>Dr_Pol_T6_E06</td>\n",
       "      <td>TV</td>\n",
       "      <td>2016.0</td>\n",
       "      <td>NaN</td>\n",
       "      <td>Reality/Animales</td>\n",
       "      <td>Veterinarios,Animales,Enfermedades</td>\n",
       "      <td>Cuellos mordidos, balazos y estruendosos gruñi...</td>\n",
       "      <td>Cuellos mordidos, balazos y estruendosos gruñi...</td>\n",
       "      <td>Jan Pol, Charles Pol, Diane Pol</td>\n",
       "      <td>Ted Duvall</td>\n",
       "      <td>43.0</td>\n",
       "      <td>General</td>\n",
       "      <td>N</td>\n",
       "      <td>N</td>\n",
       "      <td>N</td>\n",
       "      <td>N</td>\n",
       "      <td>N</td>\n",
       "      <td>N</td>\n",
       "      <td>N</td>\n",
       "      <td>N</td>\n",
       "      <td>N</td>\n",
       "      <td>N</td>\n",
       "      <td>2018-05-10 02:55:24+00:00</td>\n",
       "      <td>2019-03-26 12:40:02+00:00</td>\n",
       "      <td>2018-05-03 00:00:00+00:00</td>\n",
       "      <td>2021-01-16 23:59:59+00:00</td>\n",
       "    </tr>\n",
       "    <tr>\n",
       "      <th>7320</th>\n",
       "      <td>22004</td>\n",
       "      <td>1124.0</td>\n",
       "      <td>T:7 Ep:16 Dr. Pol</td>\n",
       "      <td>Dr_Pol_T7_E16</td>\n",
       "      <td>TV</td>\n",
       "      <td>2017.0</td>\n",
       "      <td>NaN</td>\n",
       "      <td>Reality/Animales</td>\n",
       "      <td>Veterinarios,Animales,Enfermedades</td>\n",
       "      <td>Esta semana en 'El increíble Dr. Pol', la doct...</td>\n",
       "      <td>Esta semana en 'El increíble Dr. Pol', la doct...</td>\n",
       "      <td>Jan Pol, Charles Pol, Diane Pol</td>\n",
       "      <td>Ted Duvall</td>\n",
       "      <td>42.0</td>\n",
       "      <td>General</td>\n",
       "      <td>N</td>\n",
       "      <td>N</td>\n",
       "      <td>N</td>\n",
       "      <td>N</td>\n",
       "      <td>N</td>\n",
       "      <td>N</td>\n",
       "      <td>N</td>\n",
       "      <td>N</td>\n",
       "      <td>N</td>\n",
       "      <td>N</td>\n",
       "      <td>2019-04-03 21:34:38+00:00</td>\n",
       "      <td>2019-10-17 11:26:23+00:00</td>\n",
       "      <td>2018-12-19 00:00:00+00:00</td>\n",
       "      <td>2021-01-16 23:59:00+00:00</td>\n",
       "    </tr>\n",
       "    <tr>\n",
       "      <th>7321</th>\n",
       "      <td>9452</td>\n",
       "      <td>1124.0</td>\n",
       "      <td>T:7 Ep:17 Dr. Pol</td>\n",
       "      <td>Dr_Pol_T7_E17</td>\n",
       "      <td>TV</td>\n",
       "      <td>2017.0</td>\n",
       "      <td>NaN</td>\n",
       "      <td>Reality/Animales</td>\n",
       "      <td>Veterinarios,Animales,Enfermedades</td>\n",
       "      <td>Es la primera semana de trabajo de la doctora ...</td>\n",
       "      <td>Es la primera semana de trabajo de la doctora ...</td>\n",
       "      <td>Jan Pol, Charles Pol, Diane Pol</td>\n",
       "      <td>Ted Duvall</td>\n",
       "      <td>43.0</td>\n",
       "      <td>General</td>\n",
       "      <td>N</td>\n",
       "      <td>N</td>\n",
       "      <td>N</td>\n",
       "      <td>N</td>\n",
       "      <td>N</td>\n",
       "      <td>N</td>\n",
       "      <td>N</td>\n",
       "      <td>N</td>\n",
       "      <td>N</td>\n",
       "      <td>N</td>\n",
       "      <td>2019-04-03 21:37:39+00:00</td>\n",
       "      <td>2019-10-17 11:26:24+00:00</td>\n",
       "      <td>2018-12-26 00:00:00+00:00</td>\n",
       "      <td>2021-01-16 23:59:00+00:00</td>\n",
       "    </tr>\n",
       "    <tr>\n",
       "      <th>17406</th>\n",
       "      <td>8946</td>\n",
       "      <td>2264.0</td>\n",
       "      <td>My Mother's Future Husband</td>\n",
       "      <td>My_Mothers_Future</td>\n",
       "      <td>Película</td>\n",
       "      <td>2014.0</td>\n",
       "      <td>NaN</td>\n",
       "      <td>Romance/Comedia</td>\n",
       "      <td>Melodrama,Tragicómica,Familia,Parejas</td>\n",
       "      <td>Cuando Headly experimenta su primer enamoramie...</td>\n",
       "      <td>Cuando Headly experimenta su primer enamoramie...</td>\n",
       "      <td>Frank Cassini, Burkely Duffield, Matreya Fedor</td>\n",
       "      <td>George Erschbamer</td>\n",
       "      <td>89.0</td>\n",
       "      <td>Mujeres</td>\n",
       "      <td>N</td>\n",
       "      <td>N</td>\n",
       "      <td>N</td>\n",
       "      <td>N</td>\n",
       "      <td>N</td>\n",
       "      <td>N</td>\n",
       "      <td>N</td>\n",
       "      <td>N</td>\n",
       "      <td>Y</td>\n",
       "      <td>N</td>\n",
       "      <td>2019-04-04 16:32:11+00:00</td>\n",
       "      <td>2019-10-17 11:26:26+00:00</td>\n",
       "      <td>2019-04-03 00:00:00+00:00</td>\n",
       "      <td>2022-03-31 23:59:00+00:00</td>\n",
       "    </tr>\n",
       "  </tbody>\n",
       "</table>\n",
       "</div>"
      ],
      "text/plain": [
       "       asset_id  content_id                       title      reduced_title  \\\n",
       "7287      31314      1124.0           T:6 Ep:06 Dr. Pol      Dr_Pol_T6_E06   \n",
       "7320      22004      1124.0           T:7 Ep:16 Dr. Pol      Dr_Pol_T7_E16   \n",
       "7321       9452      1124.0           T:7 Ep:17 Dr. Pol      Dr_Pol_T7_E17   \n",
       "17406      8946      2264.0  My Mother's Future Husband  My_Mothers_Future   \n",
       "\n",
       "      show_type released_year country_of_origin          category  \\\n",
       "7287         TV        2016.0               NaN  Reality/Animales   \n",
       "7320         TV        2017.0               NaN  Reality/Animales   \n",
       "7321         TV        2017.0               NaN  Reality/Animales   \n",
       "17406  Película        2014.0               NaN   Romance/Comedia   \n",
       "\n",
       "                                    keywords  \\\n",
       "7287      Veterinarios,Animales,Enfermedades   \n",
       "7320      Veterinarios,Animales,Enfermedades   \n",
       "7321      Veterinarios,Animales,Enfermedades   \n",
       "17406  Melodrama,Tragicómica,Familia,Parejas   \n",
       "\n",
       "                                             description  \\\n",
       "7287   Cuellos mordidos, balazos y estruendosos gruñi...   \n",
       "7320   Esta semana en 'El increíble Dr. Pol', la doct...   \n",
       "7321   Es la primera semana de trabajo de la doctora ...   \n",
       "17406  Cuando Headly experimenta su primer enamoramie...   \n",
       "\n",
       "                                            reduced_desc  \\\n",
       "7287   Cuellos mordidos, balazos y estruendosos gruñi...   \n",
       "7320   Esta semana en 'El increíble Dr. Pol', la doct...   \n",
       "7321   Es la primera semana de trabajo de la doctora ...   \n",
       "17406  Cuando Headly experimenta su primer enamoramie...   \n",
       "\n",
       "                                      cast_first_name credits_first_name  \\\n",
       "7287                  Jan Pol, Charles Pol, Diane Pol         Ted Duvall   \n",
       "7320                  Jan Pol, Charles Pol, Diane Pol         Ted Duvall   \n",
       "7321                  Jan Pol, Charles Pol, Diane Pol         Ted Duvall   \n",
       "17406  Frank Cassini, Burkely Duffield, Matreya Fedor  George Erschbamer   \n",
       "\n",
       "       run_time_min audience made_for_tv close_caption sex_rating  \\\n",
       "7287           43.0  General           N             N          N   \n",
       "7320           42.0  General           N             N          N   \n",
       "7321           43.0  General           N             N          N   \n",
       "17406          89.0  Mujeres           N             N          N   \n",
       "\n",
       "      violence_rating language_rating dialog_rating fv_rating pay_per_view  \\\n",
       "7287                N               N             N         N            N   \n",
       "7320                N               N             N         N            N   \n",
       "7321                N               N             N         N            N   \n",
       "17406               N               N             N         N            N   \n",
       "\n",
       "      pack_premium_1 pack_premium_2               create_date  \\\n",
       "7287               N              N 2018-05-10 02:55:24+00:00   \n",
       "7320               N              N 2019-04-03 21:34:38+00:00   \n",
       "7321               N              N 2019-04-03 21:37:39+00:00   \n",
       "17406              Y              N 2019-04-04 16:32:11+00:00   \n",
       "\n",
       "                    modify_date            start_vod_date  \\\n",
       "7287  2019-03-26 12:40:02+00:00 2018-05-03 00:00:00+00:00   \n",
       "7320  2019-10-17 11:26:23+00:00 2018-12-19 00:00:00+00:00   \n",
       "7321  2019-10-17 11:26:24+00:00 2018-12-26 00:00:00+00:00   \n",
       "17406 2019-10-17 11:26:26+00:00 2019-04-03 00:00:00+00:00   \n",
       "\n",
       "                   end_vod_date  \n",
       "7287  2021-01-16 23:59:59+00:00  \n",
       "7320  2021-01-16 23:59:00+00:00  \n",
       "7321  2021-01-16 23:59:00+00:00  \n",
       "17406 2022-03-31 23:59:00+00:00  "
      ]
     },
     "execution_count": 26,
     "metadata": {},
     "output_type": "execute_result"
    }
   ],
   "source": [
    "df_meta[df_meta.country_of_origin.isnull()]"
   ]
  },
  {
   "cell_type": "markdown",
   "metadata": {},
   "source": [
    "- Como son los completamos a mano, una serie es de US y la otra de CA (Canada)"
   ]
  },
  {
   "cell_type": "code",
   "execution_count": 27,
   "metadata": {},
   "outputs": [],
   "source": [
    "# completamos con 'US'\n",
    "\n",
    "df_meta.loc[(df_meta.country_of_origin.isnull()) & (df_meta.content_id == 1124), 'country_of_origin'] = 'US'\n",
    "\n",
    "# completamos con 'CA'\n",
    "\n",
    "df_meta.loc[(df_meta.country_of_origin.isnull()) & (df_meta.content_id == 2264), 'country_of_origin'] = 'CA'"
   ]
  },
  {
   "cell_type": "markdown",
   "metadata": {
    "heading_collapsed": "true"
   },
   "source": [
    "#### keywords"
   ]
  },
  {
   "cell_type": "code",
   "execution_count": 28,
   "metadata": {},
   "outputs": [
    {
     "data": {
      "text/html": [
       "<div>\n",
       "<style scoped>\n",
       "    .dataframe tbody tr th:only-of-type {\n",
       "        vertical-align: middle;\n",
       "    }\n",
       "\n",
       "    .dataframe tbody tr th {\n",
       "        vertical-align: top;\n",
       "    }\n",
       "\n",
       "    .dataframe thead th {\n",
       "        text-align: right;\n",
       "    }\n",
       "</style>\n",
       "<table border=\"1\" class=\"dataframe\">\n",
       "  <thead>\n",
       "    <tr style=\"text-align: right;\">\n",
       "      <th></th>\n",
       "      <th>asset_id</th>\n",
       "      <th>content_id</th>\n",
       "      <th>title</th>\n",
       "      <th>reduced_title</th>\n",
       "      <th>show_type</th>\n",
       "      <th>released_year</th>\n",
       "      <th>country_of_origin</th>\n",
       "      <th>category</th>\n",
       "      <th>keywords</th>\n",
       "      <th>description</th>\n",
       "      <th>reduced_desc</th>\n",
       "      <th>cast_first_name</th>\n",
       "      <th>credits_first_name</th>\n",
       "      <th>run_time_min</th>\n",
       "      <th>audience</th>\n",
       "      <th>made_for_tv</th>\n",
       "      <th>close_caption</th>\n",
       "      <th>sex_rating</th>\n",
       "      <th>violence_rating</th>\n",
       "      <th>language_rating</th>\n",
       "      <th>dialog_rating</th>\n",
       "      <th>fv_rating</th>\n",
       "      <th>pay_per_view</th>\n",
       "      <th>pack_premium_1</th>\n",
       "      <th>pack_premium_2</th>\n",
       "      <th>create_date</th>\n",
       "      <th>modify_date</th>\n",
       "      <th>start_vod_date</th>\n",
       "      <th>end_vod_date</th>\n",
       "    </tr>\n",
       "  </thead>\n",
       "  <tbody>\n",
       "    <tr>\n",
       "      <th>29761</th>\n",
       "      <td>25451</td>\n",
       "      <td>3914.0</td>\n",
       "      <td>La supremacía Bourne</td>\n",
       "      <td>La_supremacia_Bourn</td>\n",
       "      <td>Película</td>\n",
       "      <td>2004.0</td>\n",
       "      <td>US</td>\n",
       "      <td>Acción/Suspenso</td>\n",
       "      <td>NaN</td>\n",
       "      <td>Cuando el viceprimer ministro chino es brutalm...</td>\n",
       "      <td>Cuando un ministro chino es asesinado, la CIA ...</td>\n",
       "      <td>Matt Damon, Franka Potente, Brian Cox, Karl Ur...</td>\n",
       "      <td>Paul Greengrass</td>\n",
       "      <td>102.0</td>\n",
       "      <td>Hombres</td>\n",
       "      <td>N</td>\n",
       "      <td>N</td>\n",
       "      <td>N</td>\n",
       "      <td>N</td>\n",
       "      <td>N</td>\n",
       "      <td>N</td>\n",
       "      <td>N</td>\n",
       "      <td>N</td>\n",
       "      <td>Y</td>\n",
       "      <td>N</td>\n",
       "      <td>2021-02-09 12:40:00+00:00</td>\n",
       "      <td>2021-02-09 13:06:09+00:00</td>\n",
       "      <td>2021-02-07 00:00:00+00:00</td>\n",
       "      <td>2021-06-30 23:59:00+00:00</td>\n",
       "    </tr>\n",
       "    <tr>\n",
       "      <th>30564</th>\n",
       "      <td>27065</td>\n",
       "      <td>1175.0</td>\n",
       "      <td>T:2 Ep:75 Drama total: La guardería</td>\n",
       "      <td>Drama_total__T2_E75</td>\n",
       "      <td>TV</td>\n",
       "      <td>2019.0</td>\n",
       "      <td>US</td>\n",
       "      <td>Infantil/Dibujos Animados</td>\n",
       "      <td>NaN</td>\n",
       "      <td>Tus personajes favoritos de Isla del Drama reg...</td>\n",
       "      <td>Tus personajes favoritos de Isla del Drama reg...</td>\n",
       "      <td>unknow-actors</td>\n",
       "      <td>unknow-director</td>\n",
       "      <td>10.0</td>\n",
       "      <td>Teens</td>\n",
       "      <td>N</td>\n",
       "      <td>N</td>\n",
       "      <td>N</td>\n",
       "      <td>N</td>\n",
       "      <td>N</td>\n",
       "      <td>N</td>\n",
       "      <td>N</td>\n",
       "      <td>N</td>\n",
       "      <td>N</td>\n",
       "      <td>N</td>\n",
       "      <td>2021-03-01 23:10:13+00:00</td>\n",
       "      <td>2021-03-02 05:06:05+00:00</td>\n",
       "      <td>2021-02-20 00:00:00+00:00</td>\n",
       "      <td>2021-04-06 23:59:00+00:00</td>\n",
       "    </tr>\n",
       "  </tbody>\n",
       "</table>\n",
       "</div>"
      ],
      "text/plain": [
       "       asset_id  content_id                                title  \\\n",
       "29761     25451      3914.0                 La supremacía Bourne   \n",
       "30564     27065      1175.0  T:2 Ep:75 Drama total: La guardería   \n",
       "\n",
       "             reduced_title show_type released_year country_of_origin  \\\n",
       "29761  La_supremacia_Bourn  Película        2004.0                US   \n",
       "30564  Drama_total__T2_E75        TV        2019.0                US   \n",
       "\n",
       "                        category keywords  \\\n",
       "29761            Acción/Suspenso      NaN   \n",
       "30564  Infantil/Dibujos Animados      NaN   \n",
       "\n",
       "                                             description  \\\n",
       "29761  Cuando el viceprimer ministro chino es brutalm...   \n",
       "30564  Tus personajes favoritos de Isla del Drama reg...   \n",
       "\n",
       "                                            reduced_desc  \\\n",
       "29761  Cuando un ministro chino es asesinado, la CIA ...   \n",
       "30564  Tus personajes favoritos de Isla del Drama reg...   \n",
       "\n",
       "                                         cast_first_name credits_first_name  \\\n",
       "29761  Matt Damon, Franka Potente, Brian Cox, Karl Ur...    Paul Greengrass   \n",
       "30564                                      unknow-actors    unknow-director   \n",
       "\n",
       "       run_time_min audience made_for_tv close_caption sex_rating  \\\n",
       "29761         102.0  Hombres           N             N          N   \n",
       "30564          10.0    Teens           N             N          N   \n",
       "\n",
       "      violence_rating language_rating dialog_rating fv_rating pay_per_view  \\\n",
       "29761               N               N             N         N            N   \n",
       "30564               N               N             N         N            N   \n",
       "\n",
       "      pack_premium_1 pack_premium_2               create_date  \\\n",
       "29761              Y              N 2021-02-09 12:40:00+00:00   \n",
       "30564              N              N 2021-03-01 23:10:13+00:00   \n",
       "\n",
       "                    modify_date            start_vod_date  \\\n",
       "29761 2021-02-09 13:06:09+00:00 2021-02-07 00:00:00+00:00   \n",
       "30564 2021-03-02 05:06:05+00:00 2021-02-20 00:00:00+00:00   \n",
       "\n",
       "                   end_vod_date  \n",
       "29761 2021-06-30 23:59:00+00:00  \n",
       "30564 2021-04-06 23:59:00+00:00  "
      ]
     },
     "execution_count": 28,
     "metadata": {},
     "output_type": "execute_result"
    }
   ],
   "source": [
    "df_meta[df_meta.keywords.isnull()]"
   ]
  },
  {
   "cell_type": "markdown",
   "metadata": {},
   "source": [
    "- Compleamos con valores a mano (para *Drama total* tomamos el valor de otros registros)"
   ]
  },
  {
   "cell_type": "code",
   "execution_count": 29,
   "metadata": {},
   "outputs": [
    {
     "data": {
      "text/plain": [
       "7635          Travesuras\n",
       "7971          Travesuras\n",
       "8763          Travesuras\n",
       "8781          Travesuras\n",
       "9152          Travesuras\n",
       "9205          Travesuras\n",
       "10077         Travesuras\n",
       "11403         Travesuras\n",
       "11709         Travesuras\n",
       "12381         Travesuras\n",
       "12382         Travesuras\n",
       "12697         Travesuras\n",
       "30148    Niños,Ingenioso\n",
       "30564                NaN\n",
       "30826    Niños,Ingenioso\n",
       "31765    Niños,Ingenioso\n",
       "Name: keywords, dtype: object"
      ]
     },
     "execution_count": 29,
     "metadata": {},
     "output_type": "execute_result"
    }
   ],
   "source": [
    "df_meta.loc[(df_meta.content_id == 1175), 'keywords']"
   ]
  },
  {
   "cell_type": "code",
   "execution_count": 30,
   "metadata": {},
   "outputs": [],
   "source": [
    "# Completamos con \"Travesuras\"\n",
    "\n",
    "df_meta.loc[(df_meta.keywords.isnull()) & (df_meta.content_id == 1175), 'keywords'] = \\\n",
    "    df_meta[(~df_meta.keywords.isnull()) & (df_meta.content_id == 1175)].keywords.mode()[0]\n",
    "\n",
    "# Completamos con \"\"\n",
    "df_meta.loc[(df_meta.keywords.isnull()) & (df_meta.content_id == 3914), 'keywords'] = 'Espionaje,Adrenalina,Terroristas,Agentes'"
   ]
  },
  {
   "cell_type": "markdown",
   "metadata": {
    "heading_collapsed": "true"
   },
   "source": [
    "#### description"
   ]
  },
  {
   "cell_type": "code",
   "execution_count": 31,
   "metadata": {},
   "outputs": [
    {
     "data": {
      "text/html": [
       "<div>\n",
       "<style scoped>\n",
       "    .dataframe tbody tr th:only-of-type {\n",
       "        vertical-align: middle;\n",
       "    }\n",
       "\n",
       "    .dataframe tbody tr th {\n",
       "        vertical-align: top;\n",
       "    }\n",
       "\n",
       "    .dataframe thead th {\n",
       "        text-align: right;\n",
       "    }\n",
       "</style>\n",
       "<table border=\"1\" class=\"dataframe\">\n",
       "  <thead>\n",
       "    <tr style=\"text-align: right;\">\n",
       "      <th></th>\n",
       "      <th>asset_id</th>\n",
       "      <th>content_id</th>\n",
       "      <th>title</th>\n",
       "      <th>reduced_title</th>\n",
       "      <th>show_type</th>\n",
       "      <th>released_year</th>\n",
       "      <th>country_of_origin</th>\n",
       "      <th>category</th>\n",
       "      <th>keywords</th>\n",
       "      <th>description</th>\n",
       "      <th>reduced_desc</th>\n",
       "      <th>cast_first_name</th>\n",
       "      <th>credits_first_name</th>\n",
       "      <th>run_time_min</th>\n",
       "      <th>audience</th>\n",
       "      <th>made_for_tv</th>\n",
       "      <th>close_caption</th>\n",
       "      <th>sex_rating</th>\n",
       "      <th>violence_rating</th>\n",
       "      <th>language_rating</th>\n",
       "      <th>dialog_rating</th>\n",
       "      <th>fv_rating</th>\n",
       "      <th>pay_per_view</th>\n",
       "      <th>pack_premium_1</th>\n",
       "      <th>pack_premium_2</th>\n",
       "      <th>create_date</th>\n",
       "      <th>modify_date</th>\n",
       "      <th>start_vod_date</th>\n",
       "      <th>end_vod_date</th>\n",
       "    </tr>\n",
       "  </thead>\n",
       "  <tbody>\n",
       "    <tr>\n",
       "      <th>16238</th>\n",
       "      <td>5514</td>\n",
       "      <td>2168.0</td>\n",
       "      <td>T:1 Ep:03 Camping</td>\n",
       "      <td>Camping_T1_E03</td>\n",
       "      <td>Serie</td>\n",
       "      <td>2018.0</td>\n",
       "      <td>US</td>\n",
       "      <td>Comedia</td>\n",
       "      <td>Vacaciones,Parejas,Amigos,Optimistas,Fiestas,V...</td>\n",
       "      <td>NaN</td>\n",
       "      <td>Walt se sincera en un viaje de pesca. Jandice ...</td>\n",
       "      <td>Juliette Lewis, Jennifer Garner, Ione Skye, Da...</td>\n",
       "      <td>Jenni Konner</td>\n",
       "      <td>28.0</td>\n",
       "      <td>General</td>\n",
       "      <td>N</td>\n",
       "      <td>N</td>\n",
       "      <td>N</td>\n",
       "      <td>N</td>\n",
       "      <td>N</td>\n",
       "      <td>N</td>\n",
       "      <td>N</td>\n",
       "      <td>N</td>\n",
       "      <td>N</td>\n",
       "      <td>Y</td>\n",
       "      <td>2018-11-20 16:33:34+00:00</td>\n",
       "      <td>2020-09-30 12:08:37+00:00</td>\n",
       "      <td>2018-11-19 00:00:00+00:00</td>\n",
       "      <td>2021-03-31 23:59:59+00:00</td>\n",
       "    </tr>\n",
       "    <tr>\n",
       "      <th>16330</th>\n",
       "      <td>21755</td>\n",
       "      <td>2168.0</td>\n",
       "      <td>T:1 Ep:04 Camping</td>\n",
       "      <td>Camping_T1_E04</td>\n",
       "      <td>Serie</td>\n",
       "      <td>2018.0</td>\n",
       "      <td>US</td>\n",
       "      <td>Comedia</td>\n",
       "      <td>Vacaciones,Parejas,Amigos,Optimistas,Fiestas,V...</td>\n",
       "      <td>NaN</td>\n",
       "      <td>Un cambio de última hora lleva a Kathryn a col...</td>\n",
       "      <td>Juliette Lewis, Jennifer Garner, Ione Skye, Da...</td>\n",
       "      <td>Jenni Konner</td>\n",
       "      <td>27.0</td>\n",
       "      <td>General</td>\n",
       "      <td>N</td>\n",
       "      <td>N</td>\n",
       "      <td>N</td>\n",
       "      <td>N</td>\n",
       "      <td>N</td>\n",
       "      <td>N</td>\n",
       "      <td>N</td>\n",
       "      <td>N</td>\n",
       "      <td>N</td>\n",
       "      <td>Y</td>\n",
       "      <td>2018-11-26 15:49:48+00:00</td>\n",
       "      <td>2020-09-30 12:11:40+00:00</td>\n",
       "      <td>2019-11-26 00:00:00+00:00</td>\n",
       "      <td>2021-03-31 23:59:59+00:00</td>\n",
       "    </tr>\n",
       "  </tbody>\n",
       "</table>\n",
       "</div>"
      ],
      "text/plain": [
       "       asset_id  content_id              title   reduced_title show_type  \\\n",
       "16238      5514      2168.0  T:1 Ep:03 Camping  Camping_T1_E03     Serie   \n",
       "16330     21755      2168.0  T:1 Ep:04 Camping  Camping_T1_E04     Serie   \n",
       "\n",
       "      released_year country_of_origin category  \\\n",
       "16238        2018.0                US  Comedia   \n",
       "16330        2018.0                US  Comedia   \n",
       "\n",
       "                                                keywords description  \\\n",
       "16238  Vacaciones,Parejas,Amigos,Optimistas,Fiestas,V...         NaN   \n",
       "16330  Vacaciones,Parejas,Amigos,Optimistas,Fiestas,V...         NaN   \n",
       "\n",
       "                                            reduced_desc  \\\n",
       "16238  Walt se sincera en un viaje de pesca. Jandice ...   \n",
       "16330  Un cambio de última hora lleva a Kathryn a col...   \n",
       "\n",
       "                                         cast_first_name credits_first_name  \\\n",
       "16238  Juliette Lewis, Jennifer Garner, Ione Skye, Da...       Jenni Konner   \n",
       "16330  Juliette Lewis, Jennifer Garner, Ione Skye, Da...       Jenni Konner   \n",
       "\n",
       "       run_time_min audience made_for_tv close_caption sex_rating  \\\n",
       "16238          28.0  General           N             N          N   \n",
       "16330          27.0  General           N             N          N   \n",
       "\n",
       "      violence_rating language_rating dialog_rating fv_rating pay_per_view  \\\n",
       "16238               N               N             N         N            N   \n",
       "16330               N               N             N         N            N   \n",
       "\n",
       "      pack_premium_1 pack_premium_2               create_date  \\\n",
       "16238              N              Y 2018-11-20 16:33:34+00:00   \n",
       "16330              N              Y 2018-11-26 15:49:48+00:00   \n",
       "\n",
       "                    modify_date            start_vod_date  \\\n",
       "16238 2020-09-30 12:08:37+00:00 2018-11-19 00:00:00+00:00   \n",
       "16330 2020-09-30 12:11:40+00:00 2019-11-26 00:00:00+00:00   \n",
       "\n",
       "                   end_vod_date  \n",
       "16238 2021-03-31 23:59:59+00:00  \n",
       "16330 2021-03-31 23:59:59+00:00  "
      ]
     },
     "execution_count": 31,
     "metadata": {},
     "output_type": "execute_result"
    }
   ],
   "source": [
    "df_meta[df_meta.description.isnull()]"
   ]
  },
  {
   "cell_type": "markdown",
   "metadata": {},
   "source": [
    "- Completamos con la \"*reduced_desc*\""
   ]
  },
  {
   "cell_type": "code",
   "execution_count": 32,
   "metadata": {},
   "outputs": [],
   "source": [
    "df_meta.loc[df_meta.description.isnull(), 'description'] = df_meta[df_meta.description.isnull()].reduced_desc.values"
   ]
  },
  {
   "cell_type": "markdown",
   "metadata": {},
   "source": [
    "#### audience"
   ]
  },
  {
   "cell_type": "code",
   "execution_count": 33,
   "metadata": {},
   "outputs": [
    {
     "data": {
      "text/html": [
       "<div>\n",
       "<style scoped>\n",
       "    .dataframe tbody tr th:only-of-type {\n",
       "        vertical-align: middle;\n",
       "    }\n",
       "\n",
       "    .dataframe tbody tr th {\n",
       "        vertical-align: top;\n",
       "    }\n",
       "\n",
       "    .dataframe thead th {\n",
       "        text-align: right;\n",
       "    }\n",
       "</style>\n",
       "<table border=\"1\" class=\"dataframe\">\n",
       "  <thead>\n",
       "    <tr style=\"text-align: right;\">\n",
       "      <th></th>\n",
       "      <th>customer_id</th>\n",
       "      <th>account_id</th>\n",
       "      <th>device_type</th>\n",
       "      <th>asset_id</th>\n",
       "      <th>tunein</th>\n",
       "      <th>tuneout</th>\n",
       "      <th>resume</th>\n",
       "    </tr>\n",
       "  </thead>\n",
       "  <tbody>\n",
       "    <tr>\n",
       "      <th>3657796</th>\n",
       "      <td>112339</td>\n",
       "      <td>3386</td>\n",
       "      <td>STB</td>\n",
       "      <td>330.0</td>\n",
       "      <td>2021-03-31 22:10:00</td>\n",
       "      <td>2021-03-31 22:22:00</td>\n",
       "      <td>0</td>\n",
       "    </tr>\n",
       "    <tr>\n",
       "      <th>3657797</th>\n",
       "      <td>112339</td>\n",
       "      <td>3386</td>\n",
       "      <td>STB</td>\n",
       "      <td>9931.0</td>\n",
       "      <td>2021-03-31 22:22:00</td>\n",
       "      <td>2021-03-31 22:34:00</td>\n",
       "      <td>1</td>\n",
       "    </tr>\n",
       "    <tr>\n",
       "      <th>3657798</th>\n",
       "      <td>112339</td>\n",
       "      <td>3386</td>\n",
       "      <td>STB</td>\n",
       "      <td>29929.0</td>\n",
       "      <td>2021-03-31 22:34:00</td>\n",
       "      <td>2021-03-31 22:46:00</td>\n",
       "      <td>0</td>\n",
       "    </tr>\n",
       "    <tr>\n",
       "      <th>3657799</th>\n",
       "      <td>112339</td>\n",
       "      <td>3386</td>\n",
       "      <td>STB</td>\n",
       "      <td>29929.0</td>\n",
       "      <td>2021-03-31 23:09:00</td>\n",
       "      <td>2021-03-31 23:13:00</td>\n",
       "      <td>1</td>\n",
       "    </tr>\n",
       "    <tr>\n",
       "      <th>3657800</th>\n",
       "      <td>112339</td>\n",
       "      <td>3386</td>\n",
       "      <td>STB</td>\n",
       "      <td>29929.0</td>\n",
       "      <td>2021-03-31 23:13:00</td>\n",
       "      <td>2021-03-31 23:24:00</td>\n",
       "      <td>0</td>\n",
       "    </tr>\n",
       "  </tbody>\n",
       "</table>\n",
       "</div>"
      ],
      "text/plain": [
       "         customer_id  account_id device_type  asset_id              tunein  \\\n",
       "3657796       112339        3386         STB     330.0 2021-03-31 22:10:00   \n",
       "3657797       112339        3386         STB    9931.0 2021-03-31 22:22:00   \n",
       "3657798       112339        3386         STB   29929.0 2021-03-31 22:34:00   \n",
       "3657799       112339        3386         STB   29929.0 2021-03-31 23:09:00   \n",
       "3657800       112339        3386         STB   29929.0 2021-03-31 23:13:00   \n",
       "\n",
       "                    tuneout  resume  \n",
       "3657796 2021-03-31 22:22:00       0  \n",
       "3657797 2021-03-31 22:34:00       1  \n",
       "3657798 2021-03-31 22:46:00       0  \n",
       "3657799 2021-03-31 23:13:00       1  \n",
       "3657800 2021-03-31 23:24:00       0  "
      ]
     },
     "execution_count": 33,
     "metadata": {},
     "output_type": "execute_result"
    }
   ],
   "source": [
    "df.tail()"
   ]
  },
  {
   "cell_type": "code",
   "execution_count": 34,
   "metadata": {},
   "outputs": [
    {
     "data": {
      "text/plain": [
       "General       13637\n",
       "Mujeres        4553\n",
       "Juvenil        4453\n",
       "Teens          3840\n",
       "Preescolar     2301\n",
       "Niños          2292\n",
       "Hombres        1568\n",
       "Familiar        438\n",
       "NIños            36\n",
       "Gaming            4\n",
       "Name: audience, dtype: int64"
      ]
     },
     "execution_count": 34,
     "metadata": {},
     "output_type": "execute_result"
    }
   ],
   "source": [
    "df_meta.audience.value_counts()"
   ]
  },
  {
   "cell_type": "code",
   "execution_count": 35,
   "metadata": {},
   "outputs": [
    {
     "data": {
      "text/html": [
       "<div>\n",
       "<style scoped>\n",
       "    .dataframe tbody tr th:only-of-type {\n",
       "        vertical-align: middle;\n",
       "    }\n",
       "\n",
       "    .dataframe tbody tr th {\n",
       "        vertical-align: top;\n",
       "    }\n",
       "\n",
       "    .dataframe thead th {\n",
       "        text-align: right;\n",
       "    }\n",
       "</style>\n",
       "<table border=\"1\" class=\"dataframe\">\n",
       "  <thead>\n",
       "    <tr style=\"text-align: right;\">\n",
       "      <th></th>\n",
       "      <th>asset_id</th>\n",
       "      <th>content_id</th>\n",
       "      <th>title</th>\n",
       "      <th>reduced_title</th>\n",
       "      <th>show_type</th>\n",
       "      <th>released_year</th>\n",
       "      <th>country_of_origin</th>\n",
       "      <th>category</th>\n",
       "      <th>keywords</th>\n",
       "      <th>description</th>\n",
       "      <th>reduced_desc</th>\n",
       "      <th>cast_first_name</th>\n",
       "      <th>credits_first_name</th>\n",
       "      <th>run_time_min</th>\n",
       "      <th>audience</th>\n",
       "      <th>made_for_tv</th>\n",
       "      <th>close_caption</th>\n",
       "      <th>sex_rating</th>\n",
       "      <th>violence_rating</th>\n",
       "      <th>language_rating</th>\n",
       "      <th>dialog_rating</th>\n",
       "      <th>fv_rating</th>\n",
       "      <th>pay_per_view</th>\n",
       "      <th>pack_premium_1</th>\n",
       "      <th>pack_premium_2</th>\n",
       "      <th>create_date</th>\n",
       "      <th>modify_date</th>\n",
       "      <th>start_vod_date</th>\n",
       "      <th>end_vod_date</th>\n",
       "    </tr>\n",
       "  </thead>\n",
       "  <tbody>\n",
       "    <tr>\n",
       "      <th>14523</th>\n",
       "      <td>26900</td>\n",
       "      <td>2064.0</td>\n",
       "      <td>T:1 Ep:08 Refugios Extremos</td>\n",
       "      <td>Refugios_Ext_T1_E08</td>\n",
       "      <td>TV</td>\n",
       "      <td>2014.0</td>\n",
       "      <td>US</td>\n",
       "      <td>Reality/Restauración</td>\n",
       "      <td>Naturaleza,Decoración,Diseño</td>\n",
       "      <td>John y su esposa son italianos y desean constr...</td>\n",
       "      <td>John y su esposa son italianos y desean constr...</td>\n",
       "      <td>unknow-actors</td>\n",
       "      <td>George Verschoor</td>\n",
       "      <td>43.0</td>\n",
       "      <td>NaN</td>\n",
       "      <td>N</td>\n",
       "      <td>N</td>\n",
       "      <td>N</td>\n",
       "      <td>N</td>\n",
       "      <td>N</td>\n",
       "      <td>N</td>\n",
       "      <td>N</td>\n",
       "      <td>N</td>\n",
       "      <td>N</td>\n",
       "      <td>N</td>\n",
       "      <td>2018-01-17 17:51:55+00:00</td>\n",
       "      <td>2019-06-12 03:04:45+00:00</td>\n",
       "      <td>2018-01-05 00:00:00+00:00</td>\n",
       "      <td>2029-12-31 23:59:00+00:00</td>\n",
       "    </tr>\n",
       "  </tbody>\n",
       "</table>\n",
       "</div>"
      ],
      "text/plain": [
       "       asset_id  content_id                        title        reduced_title  \\\n",
       "14523     26900      2064.0  T:1 Ep:08 Refugios Extremos  Refugios_Ext_T1_E08   \n",
       "\n",
       "      show_type released_year country_of_origin              category  \\\n",
       "14523        TV        2014.0                US  Reality/Restauración   \n",
       "\n",
       "                           keywords  \\\n",
       "14523  Naturaleza,Decoración,Diseño   \n",
       "\n",
       "                                             description  \\\n",
       "14523  John y su esposa son italianos y desean constr...   \n",
       "\n",
       "                                            reduced_desc cast_first_name  \\\n",
       "14523  John y su esposa son italianos y desean constr...   unknow-actors   \n",
       "\n",
       "      credits_first_name  run_time_min audience made_for_tv close_caption  \\\n",
       "14523   George Verschoor          43.0      NaN           N             N   \n",
       "\n",
       "      sex_rating violence_rating language_rating dialog_rating fv_rating  \\\n",
       "14523          N               N               N             N         N   \n",
       "\n",
       "      pay_per_view pack_premium_1 pack_premium_2               create_date  \\\n",
       "14523            N              N              N 2018-01-17 17:51:55+00:00   \n",
       "\n",
       "                    modify_date            start_vod_date  \\\n",
       "14523 2019-06-12 03:04:45+00:00 2018-01-05 00:00:00+00:00   \n",
       "\n",
       "                   end_vod_date  \n",
       "14523 2029-12-31 23:59:00+00:00  "
      ]
     },
     "execution_count": 35,
     "metadata": {},
     "output_type": "execute_result"
    }
   ],
   "source": [
    "df_meta[df_meta.audience.isnull()]"
   ]
  },
  {
   "cell_type": "code",
   "execution_count": 36,
   "metadata": {},
   "outputs": [
    {
     "data": {
      "text/html": [
       "<div>\n",
       "<style scoped>\n",
       "    .dataframe tbody tr th:only-of-type {\n",
       "        vertical-align: middle;\n",
       "    }\n",
       "\n",
       "    .dataframe tbody tr th {\n",
       "        vertical-align: top;\n",
       "    }\n",
       "\n",
       "    .dataframe thead th {\n",
       "        text-align: right;\n",
       "    }\n",
       "</style>\n",
       "<table border=\"1\" class=\"dataframe\">\n",
       "  <thead>\n",
       "    <tr style=\"text-align: right;\">\n",
       "      <th></th>\n",
       "      <th>asset_id</th>\n",
       "      <th>content_id</th>\n",
       "      <th>title</th>\n",
       "      <th>reduced_title</th>\n",
       "      <th>show_type</th>\n",
       "      <th>released_year</th>\n",
       "      <th>country_of_origin</th>\n",
       "      <th>category</th>\n",
       "      <th>keywords</th>\n",
       "      <th>description</th>\n",
       "      <th>reduced_desc</th>\n",
       "      <th>cast_first_name</th>\n",
       "      <th>credits_first_name</th>\n",
       "      <th>run_time_min</th>\n",
       "      <th>audience</th>\n",
       "      <th>made_for_tv</th>\n",
       "      <th>close_caption</th>\n",
       "      <th>sex_rating</th>\n",
       "      <th>violence_rating</th>\n",
       "      <th>language_rating</th>\n",
       "      <th>dialog_rating</th>\n",
       "      <th>fv_rating</th>\n",
       "      <th>pay_per_view</th>\n",
       "      <th>pack_premium_1</th>\n",
       "      <th>pack_premium_2</th>\n",
       "      <th>create_date</th>\n",
       "      <th>modify_date</th>\n",
       "      <th>start_vod_date</th>\n",
       "      <th>end_vod_date</th>\n",
       "    </tr>\n",
       "  </thead>\n",
       "  <tbody>\n",
       "    <tr>\n",
       "      <th>14523</th>\n",
       "      <td>26900</td>\n",
       "      <td>2064.0</td>\n",
       "      <td>T:1 Ep:08 Refugios Extremos</td>\n",
       "      <td>Refugios_Ext_T1_E08</td>\n",
       "      <td>TV</td>\n",
       "      <td>2014.0</td>\n",
       "      <td>US</td>\n",
       "      <td>Reality/Restauración</td>\n",
       "      <td>Naturaleza,Decoración,Diseño</td>\n",
       "      <td>John y su esposa son italianos y desean constr...</td>\n",
       "      <td>John y su esposa son italianos y desean constr...</td>\n",
       "      <td>unknow-actors</td>\n",
       "      <td>George Verschoor</td>\n",
       "      <td>43.0</td>\n",
       "      <td>NaN</td>\n",
       "      <td>N</td>\n",
       "      <td>N</td>\n",
       "      <td>N</td>\n",
       "      <td>N</td>\n",
       "      <td>N</td>\n",
       "      <td>N</td>\n",
       "      <td>N</td>\n",
       "      <td>N</td>\n",
       "      <td>N</td>\n",
       "      <td>N</td>\n",
       "      <td>2018-01-17 17:51:55+00:00</td>\n",
       "      <td>2019-06-12 03:04:45+00:00</td>\n",
       "      <td>2018-01-05 00:00:00+00:00</td>\n",
       "      <td>2029-12-31 23:59:00+00:00</td>\n",
       "    </tr>\n",
       "  </tbody>\n",
       "</table>\n",
       "</div>"
      ],
      "text/plain": [
       "       asset_id  content_id                        title        reduced_title  \\\n",
       "14523     26900      2064.0  T:1 Ep:08 Refugios Extremos  Refugios_Ext_T1_E08   \n",
       "\n",
       "      show_type released_year country_of_origin              category  \\\n",
       "14523        TV        2014.0                US  Reality/Restauración   \n",
       "\n",
       "                           keywords  \\\n",
       "14523  Naturaleza,Decoración,Diseño   \n",
       "\n",
       "                                             description  \\\n",
       "14523  John y su esposa son italianos y desean constr...   \n",
       "\n",
       "                                            reduced_desc cast_first_name  \\\n",
       "14523  John y su esposa son italianos y desean constr...   unknow-actors   \n",
       "\n",
       "      credits_first_name  run_time_min audience made_for_tv close_caption  \\\n",
       "14523   George Verschoor          43.0      NaN           N             N   \n",
       "\n",
       "      sex_rating violence_rating language_rating dialog_rating fv_rating  \\\n",
       "14523          N               N               N             N         N   \n",
       "\n",
       "      pay_per_view pack_premium_1 pack_premium_2               create_date  \\\n",
       "14523            N              N              N 2018-01-17 17:51:55+00:00   \n",
       "\n",
       "                    modify_date            start_vod_date  \\\n",
       "14523 2019-06-12 03:04:45+00:00 2018-01-05 00:00:00+00:00   \n",
       "\n",
       "                   end_vod_date  \n",
       "14523 2029-12-31 23:59:00+00:00  "
      ]
     },
     "execution_count": 36,
     "metadata": {},
     "output_type": "execute_result"
    }
   ],
   "source": [
    "df_meta.loc[(df_meta.content_id == 2064)]"
   ]
  },
  {
   "cell_type": "code",
   "execution_count": 37,
   "metadata": {},
   "outputs": [],
   "source": [
    "audience_mode = df_meta.audience.value_counts().index.values[0]\n",
    "\n",
    "df_meta.loc[(df_meta.audience.isnull()), 'audience'] = audience_mode"
   ]
  },
  {
   "cell_type": "code",
   "execution_count": 38,
   "metadata": {},
   "outputs": [
    {
     "data": {
      "text/plain": [
       "False"
      ]
     },
     "execution_count": 38,
     "metadata": {},
     "output_type": "execute_result"
    }
   ],
   "source": [
    "# chequeamos que no queden nulls\n",
    "\n",
    "df_meta.isnull().sum().any()"
   ]
  },
  {
   "cell_type": "markdown",
   "metadata": {},
   "source": [
    "#### run_time_min"
   ]
  },
  {
   "cell_type": "markdown",
   "metadata": {},
   "source": [
    "- Vamos a unificar los registros con run_time_min == 0"
   ]
  },
  {
   "cell_type": "code",
   "execution_count": 39,
   "metadata": {},
   "outputs": [
    {
     "data": {
      "text/plain": [
       "(114, 29)"
      ]
     },
     "execution_count": 39,
     "metadata": {},
     "output_type": "execute_result"
    }
   ],
   "source": [
    "df_meta[df_meta.run_time_min == 0].shape"
   ]
  },
  {
   "cell_type": "code",
   "execution_count": 40,
   "metadata": {},
   "outputs": [],
   "source": [
    "# Vamos a unificar esto usando la moda para cada content_id\n",
    "\n",
    "data_by_content = df_meta.groupby('content_id')['run_time_min'].agg(lambda x: x.max())\n",
    "data_by_content.name = 'run_time_min'\n",
    "\n",
    "df_meta = pd.merge(df_meta.drop(columns=['run_time_min']), data_by_content, how='inner', left_on='content_id', right_index=True)"
   ]
  },
  {
   "cell_type": "code",
   "execution_count": 41,
   "metadata": {},
   "outputs": [],
   "source": [
    "# Completamos with mode\n",
    "\n",
    "df_meta.loc[df_meta.run_time_min == 0, 'run_time_min'] = int(df_meta.run_time_min.mean())"
   ]
  },
  {
   "cell_type": "markdown",
   "metadata": {
    "heading_collapsed": "true"
   },
   "source": [
    "### Check Consistency\n",
    "Chequeamos que el dataset tiene consistencia entre sus registros"
   ]
  },
  {
   "cell_type": "markdown",
   "metadata": {},
   "source": [
    "- Chequeamos los `assets_id` borrados (los tutoriales)"
   ]
  },
  {
   "cell_type": "code",
   "execution_count": 42,
   "metadata": {},
   "outputs": [
    {
     "data": {
      "text/html": [
       "<div>\n",
       "<style scoped>\n",
       "    .dataframe tbody tr th:only-of-type {\n",
       "        vertical-align: middle;\n",
       "    }\n",
       "\n",
       "    .dataframe tbody tr th {\n",
       "        vertical-align: top;\n",
       "    }\n",
       "\n",
       "    .dataframe thead th {\n",
       "        text-align: right;\n",
       "    }\n",
       "</style>\n",
       "<table border=\"1\" class=\"dataframe\">\n",
       "  <thead>\n",
       "    <tr style=\"text-align: right;\">\n",
       "      <th></th>\n",
       "      <th>customer_id</th>\n",
       "      <th>account_id</th>\n",
       "      <th>device_type</th>\n",
       "      <th>asset_id</th>\n",
       "      <th>tunein</th>\n",
       "      <th>tuneout</th>\n",
       "      <th>resume</th>\n",
       "    </tr>\n",
       "  </thead>\n",
       "  <tbody>\n",
       "    <tr>\n",
       "      <th>27952</th>\n",
       "      <td>945</td>\n",
       "      <td>26773</td>\n",
       "      <td>STB</td>\n",
       "      <td>3938.0</td>\n",
       "      <td>2021-03-20 17:44:00</td>\n",
       "      <td>2021-03-20 17:46:00</td>\n",
       "      <td>0</td>\n",
       "    </tr>\n",
       "    <tr>\n",
       "      <th>27953</th>\n",
       "      <td>945</td>\n",
       "      <td>26773</td>\n",
       "      <td>STB</td>\n",
       "      <td>28382.0</td>\n",
       "      <td>2021-03-20 17:50:00</td>\n",
       "      <td>2021-03-20 17:53:00</td>\n",
       "      <td>0</td>\n",
       "    </tr>\n",
       "    <tr>\n",
       "      <th>69652</th>\n",
       "      <td>2313</td>\n",
       "      <td>27844</td>\n",
       "      <td>STB</td>\n",
       "      <td>3938.0</td>\n",
       "      <td>2021-03-09 00:11:00</td>\n",
       "      <td>2021-03-09 00:13:00</td>\n",
       "      <td>0</td>\n",
       "    </tr>\n",
       "    <tr>\n",
       "      <th>95034</th>\n",
       "      <td>3297</td>\n",
       "      <td>28604</td>\n",
       "      <td>STATIONARY</td>\n",
       "      <td>3938.0</td>\n",
       "      <td>2021-02-26 00:45:00</td>\n",
       "      <td>2021-02-26 00:47:00</td>\n",
       "      <td>0</td>\n",
       "    </tr>\n",
       "    <tr>\n",
       "      <th>135586</th>\n",
       "      <td>4830</td>\n",
       "      <td>29840</td>\n",
       "      <td>STB</td>\n",
       "      <td>3938.0</td>\n",
       "      <td>2021-03-27 22:24:00</td>\n",
       "      <td>2021-03-27 22:26:00</td>\n",
       "      <td>0</td>\n",
       "    </tr>\n",
       "  </tbody>\n",
       "</table>\n",
       "</div>"
      ],
      "text/plain": [
       "        customer_id  account_id device_type  asset_id              tunein  \\\n",
       "27952           945       26773         STB    3938.0 2021-03-20 17:44:00   \n",
       "27953           945       26773         STB   28382.0 2021-03-20 17:50:00   \n",
       "69652          2313       27844         STB    3938.0 2021-03-09 00:11:00   \n",
       "95034          3297       28604  STATIONARY    3938.0 2021-02-26 00:45:00   \n",
       "135586         4830       29840         STB    3938.0 2021-03-27 22:24:00   \n",
       "\n",
       "                   tuneout  resume  \n",
       "27952  2021-03-20 17:46:00       0  \n",
       "27953  2021-03-20 17:53:00       0  \n",
       "69652  2021-03-09 00:13:00       0  \n",
       "95034  2021-02-26 00:47:00       0  \n",
       "135586 2021-03-27 22:26:00       0  "
      ]
     },
     "execution_count": 42,
     "metadata": {},
     "output_type": "execute_result"
    }
   ],
   "source": [
    "df[df.asset_id.isin(assets_dropped)].iloc[:5]"
   ]
  },
  {
   "cell_type": "markdown",
   "metadata": {},
   "source": [
    "Vamos a cambiarlos por el contenido menos visto"
   ]
  },
  {
   "cell_type": "code",
   "execution_count": 43,
   "metadata": {},
   "outputs": [],
   "source": [
    "asset_mode = df.asset_id.value_counts().index[-1]\n",
    "df.loc[df.asset_id.isin(assets_dropped), 'asset_id'] = asset_mode"
   ]
  },
  {
   "cell_type": "markdown",
   "metadata": {},
   "source": [
    "- Vamos a ver si algun ***account_id*** corresponde a mas de un ***customer_id***"
   ]
  },
  {
   "cell_type": "code",
   "execution_count": 44,
   "metadata": {},
   "outputs": [
    {
     "data": {
      "text/html": [
       "<div>\n",
       "<style scoped>\n",
       "    .dataframe tbody tr th:only-of-type {\n",
       "        vertical-align: middle;\n",
       "    }\n",
       "\n",
       "    .dataframe tbody tr th {\n",
       "        vertical-align: top;\n",
       "    }\n",
       "\n",
       "    .dataframe thead th {\n",
       "        text-align: right;\n",
       "    }\n",
       "</style>\n",
       "<table border=\"1\" class=\"dataframe\">\n",
       "  <thead>\n",
       "    <tr style=\"text-align: right;\">\n",
       "      <th></th>\n",
       "      <th>customer_id</th>\n",
       "      <th>account_id</th>\n",
       "      <th>device_type</th>\n",
       "      <th>asset_id</th>\n",
       "      <th>tunein</th>\n",
       "      <th>tuneout</th>\n",
       "      <th>resume</th>\n",
       "    </tr>\n",
       "  </thead>\n",
       "  <tbody>\n",
       "  </tbody>\n",
       "</table>\n",
       "</div>"
      ],
      "text/plain": [
       "Empty DataFrame\n",
       "Columns: [customer_id, account_id, device_type, asset_id, tunein, tuneout, resume]\n",
       "Index: []"
      ]
     },
     "execution_count": 44,
     "metadata": {},
     "output_type": "execute_result"
    }
   ],
   "source": [
    "customers_by_account = df.groupby('account_id')['customer_id'].agg(lambda x: len(set(x)))\n",
    "df[df.account_id.isin( customers_by_account[customers_by_account > 1].index )]"
   ]
  },
  {
   "cell_type": "markdown",
   "metadata": {},
   "source": [
    "-  Veamos si algun ***asset_id*** corresponde a mas de un ***content_id***"
   ]
  },
  {
   "cell_type": "code",
   "execution_count": 45,
   "metadata": {},
   "outputs": [
    {
     "data": {
      "text/html": [
       "<div>\n",
       "<style scoped>\n",
       "    .dataframe tbody tr th:only-of-type {\n",
       "        vertical-align: middle;\n",
       "    }\n",
       "\n",
       "    .dataframe tbody tr th {\n",
       "        vertical-align: top;\n",
       "    }\n",
       "\n",
       "    .dataframe thead th {\n",
       "        text-align: right;\n",
       "    }\n",
       "</style>\n",
       "<table border=\"1\" class=\"dataframe\">\n",
       "  <thead>\n",
       "    <tr style=\"text-align: right;\">\n",
       "      <th></th>\n",
       "      <th>asset_id</th>\n",
       "      <th>content_id</th>\n",
       "      <th>title</th>\n",
       "      <th>reduced_title</th>\n",
       "      <th>show_type</th>\n",
       "      <th>released_year</th>\n",
       "      <th>country_of_origin</th>\n",
       "      <th>category</th>\n",
       "      <th>keywords</th>\n",
       "      <th>description</th>\n",
       "      <th>reduced_desc</th>\n",
       "      <th>cast_first_name</th>\n",
       "      <th>credits_first_name</th>\n",
       "      <th>audience</th>\n",
       "      <th>made_for_tv</th>\n",
       "      <th>close_caption</th>\n",
       "      <th>sex_rating</th>\n",
       "      <th>violence_rating</th>\n",
       "      <th>language_rating</th>\n",
       "      <th>dialog_rating</th>\n",
       "      <th>fv_rating</th>\n",
       "      <th>pay_per_view</th>\n",
       "      <th>pack_premium_1</th>\n",
       "      <th>pack_premium_2</th>\n",
       "      <th>create_date</th>\n",
       "      <th>modify_date</th>\n",
       "      <th>start_vod_date</th>\n",
       "      <th>end_vod_date</th>\n",
       "      <th>run_time_min</th>\n",
       "    </tr>\n",
       "  </thead>\n",
       "  <tbody>\n",
       "  </tbody>\n",
       "</table>\n",
       "</div>"
      ],
      "text/plain": [
       "Empty DataFrame\n",
       "Columns: [asset_id, content_id, title, reduced_title, show_type, released_year, country_of_origin, category, keywords, description, reduced_desc, cast_first_name, credits_first_name, audience, made_for_tv, close_caption, sex_rating, violence_rating, language_rating, dialog_rating, fv_rating, pay_per_view, pack_premium_1, pack_premium_2, create_date, modify_date, start_vod_date, end_vod_date, run_time_min]\n",
       "Index: []"
      ]
     },
     "execution_count": 45,
     "metadata": {},
     "output_type": "execute_result"
    }
   ],
   "source": [
    "contents_by_asset = df_meta.groupby('asset_id')['content_id'].agg(lambda x: len(set(x)))\n",
    "df_meta[df_meta.asset_id.isin( contents_by_asset[contents_by_asset > 1].index )]"
   ]
  },
  {
   "cell_type": "markdown",
   "metadata": {},
   "source": [
    "-  Veamos si algun ***content_id*** corresponde a mas de un ***show_type***"
   ]
  },
  {
   "cell_type": "code",
   "execution_count": 46,
   "metadata": {},
   "outputs": [
    {
     "data": {
      "text/plain": [
       "content_id\n",
       "185.0               {TV, Serie}\n",
       "691.0     {Series,Serie, Serie}\n",
       "778.0               {TV, Serie}\n",
       "1209.0        {Película, Serie}\n",
       "1281.0              {TV, Serie}\n",
       "1380.0    {Series,Serie, Serie}\n",
       "1422.0              {TV, Serie}\n",
       "2135.0         {Rolling, Serie}\n",
       "2994.0              {TV, Serie}\n",
       "3097.0              {TV, Serie}\n",
       "3285.0             {Web, Serie}\n",
       "3413.0        {Película, Serie}\n",
       "3704.0              {TV, Serie}\n",
       "3739.0              {TV, Serie}\n",
       "3836.0              {TV, Serie}\n",
       "3840.0              {TV, Serie}\n",
       "Name: show_type, dtype: object"
      ]
     },
     "execution_count": 46,
     "metadata": {},
     "output_type": "execute_result"
    }
   ],
   "source": [
    "data_by_content = df_meta.groupby('content_id')['show_type'].agg(lambda x: set(x))\n",
    "data_by_content[data_by_content.map(len) > 1]"
   ]
  },
  {
   "cell_type": "code",
   "execution_count": 47,
   "metadata": {},
   "outputs": [],
   "source": [
    "# Vamos a unificar esto usando la moda para cada content_id\n",
    "\n",
    "data_by_content = df_meta.groupby('content_id')['show_type'].agg(lambda x: x.mode()[0])\n",
    "data_by_content.name = 'show_type'\n",
    "\n",
    "df_meta = pd.merge(df_meta.drop(columns=['show_type']), data_by_content, how='inner', left_on='content_id', right_index=True)"
   ]
  },
  {
   "cell_type": "markdown",
   "metadata": {},
   "source": [
    "-  Veamos si algun ***content_id*** corresponde a mas de un ***country_of_origin***"
   ]
  },
  {
   "cell_type": "code",
   "execution_count": 48,
   "metadata": {},
   "outputs": [
    {
     "data": {
      "text/plain": [
       "content_id\n",
       "59.0          {US, AR}\n",
       "71.0          {FM, US}\n",
       "476.0         {AU, US}\n",
       "633.0    {US, Francia}\n",
       "654.0         {GB, US}\n",
       "Name: country_of_origin, dtype: object"
      ]
     },
     "execution_count": 48,
     "metadata": {},
     "output_type": "execute_result"
    }
   ],
   "source": [
    "data_by_content = df_meta.groupby('content_id')['country_of_origin'].agg(lambda x: set(x))\n",
    "data_by_content[data_by_content.map(len) > 1].iloc[:5]"
   ]
  },
  {
   "cell_type": "code",
   "execution_count": 49,
   "metadata": {},
   "outputs": [],
   "source": [
    "# Vamos a unificar esto usando la moda para cada content_id\n",
    "\n",
    "data_by_content = df_meta.groupby('content_id')['country_of_origin'].agg(lambda x: x.mode()[0])\n",
    "data_by_content.name = 'country_of_origin'\n",
    "\n",
    "df_meta = pd.merge(df_meta.drop(columns=['country_of_origin']), data_by_content, how='inner', left_on='content_id', right_index=True)"
   ]
  },
  {
   "cell_type": "markdown",
   "metadata": {
    "heading_collapsed": "true"
   },
   "source": [
    "### Categories"
   ]
  },
  {
   "cell_type": "code",
   "execution_count": 50,
   "metadata": {},
   "outputs": [],
   "source": [
    "# Clean up the category strings \n",
    "\n",
    "df_meta.category = df_meta.category.str.lower()\\\n",
    "                                   .replace('á', 'a', regex=True)\\\n",
    "                                   .replace('é', 'e', regex=True)\\\n",
    "                                   .replace('í', 'i', regex=True)\\\n",
    "                                   .replace('ó', 'o', regex=True)\\\n",
    "                                   .replace('ú', 'u', regex=True)\\\n",
    "                                   .replace(', ', '/', regex=True)\\\n",
    "                                   .replace('familiar', 'familia', regex=True)\\\n",
    "                                   .replace('aventuras', 'aventura', regex=True)\\\n",
    "                                   .replace('musical', 'musica', regex=True)\n",
    "\n",
    "# Binarize columns\n",
    "\n",
    "df_cat = pd.get_dummies(df_meta.category.str.split(\"/\", expand=True)\n",
    "                       ).groupby(lambda x: x.split('_')[-1], axis=1).sum()\n",
    "\n",
    "categories_list = df_cat.columns.values.tolist()\n",
    "\n",
    "# Join categories columns to df\n",
    "\n",
    "df_meta = pd.concat([df_meta.drop(columns=['category']), df_cat], axis=1)"
   ]
  },
  {
   "cell_type": "markdown",
   "metadata": {
    "heading_collapsed": "true"
   },
   "source": [
    "### Dummies variables"
   ]
  },
  {
   "cell_type": "markdown",
   "metadata": {
    "heading_collapsed": "true"
   },
   "source": [
    "#### Binarizamos estas variables"
   ]
  },
  {
   "cell_type": "code",
   "execution_count": 51,
   "metadata": {},
   "outputs": [],
   "source": [
    "dummies_cols = ['made_for_tv', 'close_caption', 'sex_rating', 'violence_rating', 'language_rating', \n",
    "                'dialog_rating', 'fv_rating', 'pay_per_view', 'pack_premium_1', 'pack_premium_2']"
   ]
  },
  {
   "cell_type": "code",
   "execution_count": 52,
   "metadata": {},
   "outputs": [
    {
     "name": "stdout",
     "output_type": "stream",
     "text": [
      "made_for_tv: ['N' 'Y']\n",
      "close_caption: ['N']\n",
      "sex_rating: ['N']\n",
      "violence_rating: ['N']\n",
      "language_rating: ['N']\n",
      "dialog_rating: ['N']\n",
      "fv_rating: ['N']\n",
      "pay_per_view: ['N' 'Y']\n",
      "pack_premium_1: ['N' 'Y']\n",
      "pack_premium_2: ['N' 'Y']\n"
     ]
    }
   ],
   "source": [
    "for col in dummies_cols:\n",
    "    print(f'{col}:', df_meta[col].unique())"
   ]
  },
  {
   "cell_type": "code",
   "execution_count": 53,
   "metadata": {},
   "outputs": [],
   "source": [
    "for col in dummies_cols:\n",
    "    df_meta[col].replace({'N': 0, 'Y': 1}, inplace=True)"
   ]
  },
  {
   "cell_type": "markdown",
   "metadata": {},
   "source": [
    "- Drop variables with an unique value"
   ]
  },
  {
   "cell_type": "code",
   "execution_count": 54,
   "metadata": {},
   "outputs": [],
   "source": [
    "df_meta.drop(columns=['close_caption', 'sex_rating', 'violence_rating', 'language_rating', 'dialog_rating', 'fv_rating'], inplace=True)"
   ]
  },
  {
   "cell_type": "markdown",
   "metadata": {},
   "source": [
    "#### made_for_tv"
   ]
  },
  {
   "cell_type": "code",
   "execution_count": 55,
   "metadata": {},
   "outputs": [
    {
     "data": {
      "text/plain": [
       "content_id\n",
       "74.0      {0, 1}\n",
       "698.0     {0, 1}\n",
       "1008.0    {0, 1}\n",
       "1009.0    {0, 1}\n",
       "1029.0    {0, 1}\n",
       "1044.0    {0, 1}\n",
       "1046.0    {0, 1}\n",
       "1047.0    {0, 1}\n",
       "1155.0    {0, 1}\n",
       "1160.0    {0, 1}\n",
       "1374.0    {0, 1}\n",
       "1375.0    {0, 1}\n",
       "1415.0    {0, 1}\n",
       "1582.0    {0, 1}\n",
       "1621.0    {0, 1}\n",
       "1792.0    {0, 1}\n",
       "1908.0    {0, 1}\n",
       "2028.0    {0, 1}\n",
       "2055.0    {0, 1}\n",
       "2056.0    {0, 1}\n",
       "2061.0    {0, 1}\n",
       "2072.0    {0, 1}\n",
       "2082.0    {0, 1}\n",
       "2087.0    {0, 1}\n",
       "2088.0    {0, 1}\n",
       "2171.0    {0, 1}\n",
       "2205.0    {0, 1}\n",
       "2542.0    {0, 1}\n",
       "Name: made_for_tv, dtype: object"
      ]
     },
     "execution_count": 55,
     "metadata": {},
     "output_type": "execute_result"
    }
   ],
   "source": [
    "for_tv_by_content = df_meta.groupby('content_id')['made_for_tv'].agg(set)\n",
    "for_tv_by_content[for_tv_by_content.map(len) > 1]"
   ]
  },
  {
   "cell_type": "markdown",
   "metadata": {},
   "source": [
    "#### pay_per_view"
   ]
  },
  {
   "cell_type": "code",
   "execution_count": 56,
   "metadata": {},
   "outputs": [
    {
     "data": {
      "text/plain": [
       "content_id\n",
       "1.0       {0, 1}\n",
       "9.0       {0, 1}\n",
       "10.0      {0, 1}\n",
       "70.0      {0, 1}\n",
       "71.0      {0, 1}\n",
       "           ...  \n",
       "3553.0    {0, 1}\n",
       "3554.0    {0, 1}\n",
       "3702.0    {0, 1}\n",
       "4082.0    {0, 1}\n",
       "4139.0    {0, 1}\n",
       "Name: pay_per_view, Length: 138, dtype: object"
      ]
     },
     "execution_count": 56,
     "metadata": {},
     "output_type": "execute_result"
    }
   ],
   "source": [
    "pay_by_content = df_meta.groupby('content_id')['pay_per_view'].agg(set)\n",
    "pay_by_content[pay_by_content.map(len) > 1]"
   ]
  },
  {
   "cell_type": "markdown",
   "metadata": {},
   "source": [
    "#### pack_premium_1"
   ]
  },
  {
   "cell_type": "code",
   "execution_count": 57,
   "metadata": {},
   "outputs": [
    {
     "data": {
      "text/plain": [
       "content_id\n",
       "3.0       {0, 1}\n",
       "9.0       {0, 1}\n",
       "10.0      {0, 1}\n",
       "23.0      {0, 1}\n",
       "24.0      {0, 1}\n",
       "           ...  \n",
       "3141.0    {0, 1}\n",
       "3487.0    {0, 1}\n",
       "3553.0    {0, 1}\n",
       "3625.0    {0, 1}\n",
       "3702.0    {0, 1}\n",
       "Name: pack_premium_1, Length: 75, dtype: object"
      ]
     },
     "execution_count": 57,
     "metadata": {},
     "output_type": "execute_result"
    }
   ],
   "source": [
    "premium_1_by_content = df_meta.groupby('content_id')['pack_premium_1'].agg(set)\n",
    "premium_1_by_content[premium_1_by_content.map(len) > 1]"
   ]
  },
  {
   "cell_type": "markdown",
   "metadata": {},
   "source": [
    "#### pack_premium_2"
   ]
  },
  {
   "cell_type": "code",
   "execution_count": 58,
   "metadata": {},
   "outputs": [
    {
     "data": {
      "text/plain": [
       "content_id\n",
       "87.0     {0, 1}\n",
       "126.0    {0, 1}\n",
       "136.0    {0, 1}\n",
       "173.0    {0, 1}\n",
       "188.0    {0, 1}\n",
       "190.0    {0, 1}\n",
       "643.0    {0, 1}\n",
       "Name: pack_premium_2, dtype: object"
      ]
     },
     "execution_count": 58,
     "metadata": {},
     "output_type": "execute_result"
    }
   ],
   "source": [
    "premium_2_by_content = df_meta.groupby('content_id')['pack_premium_2'].agg(set)\n",
    "premium_2_by_content[premium_2_by_content.map(len) > 1].iloc[:7]"
   ]
  },
  {
   "cell_type": "markdown",
   "metadata": {},
   "source": [
    "- Estas variables tienen diferentes valores para el mismo `content_id`, pero para saber que valor usar primero deberiamos unir con el **df_tran** para saber cuales `asset_id` se usan"
   ]
  },
  {
   "cell_type": "markdown",
   "metadata": {
    "heading_collapsed": "true"
   },
   "source": [
    "### Strings columns"
   ]
  },
  {
   "cell_type": "markdown",
   "metadata": {
    "heading_collapsed": "true"
   },
   "source": [
    "#### Drop redundant columns"
   ]
  },
  {
   "cell_type": "code",
   "execution_count": 59,
   "metadata": {},
   "outputs": [],
   "source": [
    "df_meta.drop(columns=['reduced_title', 'reduced_desc'], inplace=True)"
   ]
  },
  {
   "cell_type": "markdown",
   "metadata": {
    "heading_collapsed": "true"
   },
   "source": [
    "#### Title\n",
    "Limpiamos la info de Episodio y Temporada del titulo"
   ]
  },
  {
   "cell_type": "code",
   "execution_count": 60,
   "metadata": {},
   "outputs": [],
   "source": [
    "df_meta.title = df_meta.title.str.lower()\\\n",
    "                             .replace('t:\\d{1,4} ?', '', regex=True)\\\n",
    "                             .replace('ep:\\d{1,4} ?', '', regex=True)\\\n",
    "                             .replace('á', 'a', regex=True)\\\n",
    "                             .replace('é', 'e', regex=True)\\\n",
    "                             .replace('í', 'i', regex=True)\\\n",
    "                             .replace('ó', 'o', regex=True)\\\n",
    "                             .replace('ú', 'u', regex=True)\\\n",
    "                             .replace('(null|n/a)', '', regex=True)"
   ]
  },
  {
   "cell_type": "code",
   "execution_count": 61,
   "metadata": {},
   "outputs": [],
   "source": [
    "# Vamos a unificar esto usando la moda para cada content_id\n",
    "\n",
    "data_by_content = df_meta.groupby('content_id')['title'].agg(lambda x: x[x != ''].mode()[0])\n",
    "data_by_content.name = 'title'\n",
    "\n",
    "df_meta = pd.merge(df_meta.drop(columns=['title']), data_by_content, how='inner', left_on='content_id', right_index=True)"
   ]
  },
  {
   "cell_type": "markdown",
   "metadata": {
    "heading_collapsed": "true"
   },
   "source": [
    "#### keywords"
   ]
  },
  {
   "cell_type": "code",
   "execution_count": 62,
   "metadata": {},
   "outputs": [],
   "source": [
    "df_meta.keywords = df_meta.keywords.str.lower()\\\n",
    "                           .replace('á', 'a', regex=True)\\\n",
    "                           .replace('é', 'e', regex=True)\\\n",
    "                           .replace('í', 'i', regex=True)\\\n",
    "                           .replace('ó', 'o', regex=True)\\\n",
    "                           .replace('ú', 'u', regex=True)\\\n",
    "                           .replace(', ', ',', regex=True)\\\n",
    "                           .replace('t,i,t,l,e', '', regex=True)\\\n",
    "                           .replace('(null|n/a)(?=[,$])', '', regex=True)"
   ]
  },
  {
   "cell_type": "code",
   "execution_count": 63,
   "metadata": {},
   "outputs": [],
   "source": [
    "# Vamos a unificar esto usando la moda para cada content_id\n",
    "\n",
    "data_by_content = df_meta.groupby('content_id')['keywords'].agg(lambda x: x[x != ''].mode()[0])\n",
    "data_by_content.name = 'keywords'\n",
    "\n",
    "df_meta = pd.merge(df_meta.drop(columns=['keywords']), data_by_content, how='inner', left_on='content_id', right_index=True)"
   ]
  },
  {
   "cell_type": "markdown",
   "metadata": {
    "heading_collapsed": "true"
   },
   "source": [
    "### Save Results"
   ]
  },
  {
   "cell_type": "code",
   "execution_count": 64,
   "metadata": {},
   "outputs": [],
   "source": [
    "df.to_csv('data/train_cleaned.csv', index=False)"
   ]
  },
  {
   "cell_type": "code",
   "execution_count": 65,
   "metadata": {},
   "outputs": [],
   "source": [
    "df_meta.to_csv('data/metadata_cleaned.csv', index=False)"
   ]
  },
  {
   "cell_type": "markdown",
   "metadata": {},
   "source": [
    "----\n",
    "---\n",
    "---\n",
    "---"
   ]
  },
  {
   "cell_type": "markdown",
   "metadata": {},
   "source": [
    "### Datetime columns"
   ]
  },
  {
   "cell_type": "code",
   "execution_count": 3,
   "metadata": {},
   "outputs": [
    {
     "data": {
      "text/html": [
       "<div>\n",
       "<style scoped>\n",
       "    .dataframe tbody tr th:only-of-type {\n",
       "        vertical-align: middle;\n",
       "    }\n",
       "\n",
       "    .dataframe tbody tr th {\n",
       "        vertical-align: top;\n",
       "    }\n",
       "\n",
       "    .dataframe thead th {\n",
       "        text-align: right;\n",
       "    }\n",
       "</style>\n",
       "<table border=\"1\" class=\"dataframe\">\n",
       "  <thead>\n",
       "    <tr style=\"text-align: right;\">\n",
       "      <th></th>\n",
       "      <th>customer_id</th>\n",
       "      <th>account_id</th>\n",
       "      <th>device_type</th>\n",
       "      <th>asset_id</th>\n",
       "      <th>tunein</th>\n",
       "      <th>tuneout</th>\n",
       "      <th>resume</th>\n",
       "    </tr>\n",
       "  </thead>\n",
       "  <tbody>\n",
       "    <tr>\n",
       "      <th>3657798</th>\n",
       "      <td>112339</td>\n",
       "      <td>3386</td>\n",
       "      <td>STB</td>\n",
       "      <td>29929.0</td>\n",
       "      <td>2021-03-31 22:34:00</td>\n",
       "      <td>2021-03-31 22:46:00</td>\n",
       "      <td>0</td>\n",
       "    </tr>\n",
       "    <tr>\n",
       "      <th>3657799</th>\n",
       "      <td>112339</td>\n",
       "      <td>3386</td>\n",
       "      <td>STB</td>\n",
       "      <td>29929.0</td>\n",
       "      <td>2021-03-31 23:09:00</td>\n",
       "      <td>2021-03-31 23:13:00</td>\n",
       "      <td>1</td>\n",
       "    </tr>\n",
       "    <tr>\n",
       "      <th>3657800</th>\n",
       "      <td>112339</td>\n",
       "      <td>3386</td>\n",
       "      <td>STB</td>\n",
       "      <td>29929.0</td>\n",
       "      <td>2021-03-31 23:13:00</td>\n",
       "      <td>2021-03-31 23:24:00</td>\n",
       "      <td>0</td>\n",
       "    </tr>\n",
       "  </tbody>\n",
       "</table>\n",
       "</div>"
      ],
      "text/plain": [
       "         customer_id  account_id device_type  asset_id              tunein  \\\n",
       "3657798       112339        3386         STB   29929.0 2021-03-31 22:34:00   \n",
       "3657799       112339        3386         STB   29929.0 2021-03-31 23:09:00   \n",
       "3657800       112339        3386         STB   29929.0 2021-03-31 23:13:00   \n",
       "\n",
       "                    tuneout  resume  \n",
       "3657798 2021-03-31 22:46:00       0  \n",
       "3657799 2021-03-31 23:13:00       1  \n",
       "3657800 2021-03-31 23:24:00       0  "
      ]
     },
     "execution_count": 3,
     "metadata": {},
     "output_type": "execute_result"
    }
   ],
   "source": [
    "df = pd.read_csv('data/train_cleaned.csv', parse_dates=['tunein', 'tuneout'])\n",
    "\n",
    "df.tail(3)"
   ]
  },
  {
   "cell_type": "markdown",
   "metadata": {},
   "source": [
    "#### df_train\n",
    "Vamos a unir los eventos que resumen un contenido ya visto"
   ]
  },
  {
   "cell_type": "code",
   "execution_count": 4,
   "metadata": {},
   "outputs": [
    {
     "data": {
      "text/plain": [
       "(3657801, 7)"
      ]
     },
     "execution_count": 4,
     "metadata": {},
     "output_type": "execute_result"
    }
   ],
   "source": [
    "df.shape"
   ]
  },
  {
   "cell_type": "code",
   "execution_count": 5,
   "metadata": {},
   "outputs": [
    {
     "data": {
      "text/plain": [
       "(113881, 23978)"
      ]
     },
     "execution_count": 5,
     "metadata": {},
     "output_type": "execute_result"
    }
   ],
   "source": [
    "df.account_id.nunique(), df.asset_id.nunique()"
   ]
  },
  {
   "cell_type": "code",
   "execution_count": 6,
   "metadata": {},
   "outputs": [],
   "source": [
    "# Esta columna indica cuanto tiempo se vio un contendio\n",
    "\n",
    "df.loc[:, 'min_watching'] = (df.tuneout - df.tunein).dt.seconds / 60"
   ]
  },
  {
   "cell_type": "code",
   "execution_count": 7,
   "metadata": {},
   "outputs": [],
   "source": [
    "# Funcion para unir las filas que rsumen un contenido ya comenzado\n",
    "\n",
    "agg_funcs = {\n",
    "    'customer_id': 'first',\n",
    "    'account_id': 'first',\n",
    "    'asset_id': 'first',\n",
    "    'device_type': 'first',\n",
    "    'tunein': 'first',\n",
    "    'tuneout': 'last',\n",
    "    'resume': 'first',\n",
    "    'min_watching': 'sum'\n",
    "}\n",
    "\n",
    "def joins_views(df_gr):\n",
    "    df_gr = (\n",
    "        df_gr.groupby(df_gr['resume'].eq(0).cumsum(), as_index=False)\n",
    "        .agg(agg_funcs)\n",
    "    )\n",
    "\n",
    "    return df_gr"
   ]
  },
  {
   "cell_type": "code",
   "execution_count": null,
   "metadata": {},
   "outputs": [],
   "source": [
    "%%time\n",
    "\n",
    "# Creamos un df con solo los vistas que agrupados tengan mas de 1 evento\n",
    "df_cumsum = df[df.duplicated(subset=['account_id', 'asset_id'], keep=False)].copy()\n",
    "\n",
    "# Ordenamos los eventos tunein\n",
    "df_cumsum.sort_values('tunein', inplace=True)\n",
    "\n",
    "# Aplicamos la funcion para unir los grupos de eventos\n",
    "df_cumsum = df_cumsum.groupby(['account_id', 'asset_id'], as_index=False).apply(joins_views)\n",
    "\n",
    "# Borramos el index de 'account_id', 'asset_id'\n",
    "df_cumsum = df_cumsum.reset_index(drop=True)\n",
    "\n",
    "df_cumsum.shape"
   ]
  },
  {
   "cell_type": "code",
   "execution_count": null,
   "metadata": {},
   "outputs": [],
   "source": [
    "df_cumsum.tail()"
   ]
  },
  {
   "cell_type": "code",
   "execution_count": null,
   "metadata": {},
   "outputs": [],
   "source": [
    "df = pd.concat([df[~df.duplicated(subset=['account_id', 'asset_id'], keep=False)], df_cumsum])\n",
    "df.shape"
   ]
  },
  {
   "cell_type": "markdown",
   "metadata": {},
   "source": [
    "- Chequeamos consitencia ( Vemos si tenemos los mismos users y el mismo contenido que antes )"
   ]
  },
  {
   "cell_type": "code",
   "execution_count": null,
   "metadata": {},
   "outputs": [],
   "source": [
    "df.asset_id.nunique(), df.account_id.nunique()"
   ]
  },
  {
   "cell_type": "markdown",
   "metadata": {},
   "source": [
    "- Vamos a quedarnos solo con la hora que ven los programas los usuarios y borramos el `tuneout`"
   ]
  },
  {
   "cell_type": "code",
   "execution_count": null,
   "metadata": {},
   "outputs": [],
   "source": [
    "df.drop(columns=['tuneout'], inplace=True)"
   ]
  },
  {
   "cell_type": "markdown",
   "metadata": {},
   "source": [
    "#### df_meta"
   ]
  },
  {
   "cell_type": "code",
   "execution_count": null,
   "metadata": {},
   "outputs": [],
   "source": [
    "df_meta = pd.read_csv('data/metadata_cleaned.csv',\n",
    "                      parse_dates=['create_date', 'modify_date', 'start_vod_date', 'end_vod_date'])\n",
    "\n",
    "df = pd.merge(df, df_meta, how='left', on='asset_id')\n",
    "df.tail(3)"
   ]
  },
  {
   "cell_type": "markdown",
   "metadata": {},
   "source": [
    "- Vamos a dejar como fecha de finalizacion solo en dia y borramos las demas"
   ]
  },
  {
   "cell_type": "code",
   "execution_count": null,
   "metadata": {},
   "outputs": [],
   "source": [
    "df.loc[:, 'end_vod_date'] = df.end_vod_date.dt.date\n",
    "\n",
    "df.drop(columns=['create_date', 'modify_date', 'start_vod_date'], inplace=True)"
   ]
  },
  {
   "cell_type": "markdown",
   "metadata": {},
   "source": [
    "### Ranking time wathching based\n",
    "Vamos a armar un ranking basado en el tiempo de que vio un contenido un usuario"
   ]
  },
  {
   "cell_type": "markdown",
   "metadata": {},
   "source": [
    "---"
   ]
  },
  {
   "cell_type": "code",
   "execution_count": 153,
   "metadata": {},
   "outputs": [
    {
     "data": {
      "text/html": [
       "<div>\n",
       "<style scoped>\n",
       "    .dataframe tbody tr th:only-of-type {\n",
       "        vertical-align: middle;\n",
       "    }\n",
       "\n",
       "    .dataframe tbody tr th {\n",
       "        vertical-align: top;\n",
       "    }\n",
       "\n",
       "    .dataframe thead th {\n",
       "        text-align: right;\n",
       "    }\n",
       "</style>\n",
       "<table border=\"1\" class=\"dataframe\">\n",
       "  <thead>\n",
       "    <tr style=\"text-align: right;\">\n",
       "      <th></th>\n",
       "      <th>account_id</th>\n",
       "      <th>asset_id</th>\n",
       "      <th>content_id</th>\n",
       "      <th>title</th>\n",
       "      <th>run_time_min</th>\n",
       "      <th>min_watching</th>\n",
       "      <th>ranking</th>\n",
       "    </tr>\n",
       "  </thead>\n",
       "  <tbody>\n",
       "    <tr>\n",
       "      <th>4</th>\n",
       "      <td>3388</td>\n",
       "      <td>29743.0</td>\n",
       "      <td>3487.0</td>\n",
       "      <td>socias en guerra</td>\n",
       "      <td>84.0</td>\n",
       "      <td>16.0</td>\n",
       "      <td>1</td>\n",
       "    </tr>\n",
       "    <tr>\n",
       "      <th>6</th>\n",
       "      <td>3388</td>\n",
       "      <td>16202.0</td>\n",
       "      <td>2100.0</td>\n",
       "      <td>the resident</td>\n",
       "      <td>43.0</td>\n",
       "      <td>8.0</td>\n",
       "      <td>1</td>\n",
       "    </tr>\n",
       "    <tr>\n",
       "      <th>7</th>\n",
       "      <td>3388</td>\n",
       "      <td>16571.0</td>\n",
       "      <td>2100.0</td>\n",
       "      <td>the resident</td>\n",
       "      <td>43.0</td>\n",
       "      <td>5.0</td>\n",
       "      <td>1</td>\n",
       "    </tr>\n",
       "    <tr>\n",
       "      <th>9</th>\n",
       "      <td>3388</td>\n",
       "      <td>1869.0</td>\n",
       "      <td>2040.0</td>\n",
       "      <td>this is us</td>\n",
       "      <td>53.0</td>\n",
       "      <td>6.0</td>\n",
       "      <td>1</td>\n",
       "    </tr>\n",
       "    <tr>\n",
       "      <th>13</th>\n",
       "      <td>3389</td>\n",
       "      <td>28611.0</td>\n",
       "      <td>3225.0</td>\n",
       "      <td>los intrusos</td>\n",
       "      <td>90.0</td>\n",
       "      <td>4.0</td>\n",
       "      <td>1</td>\n",
       "    </tr>\n",
       "    <tr>\n",
       "      <th>...</th>\n",
       "      <td>...</td>\n",
       "      <td>...</td>\n",
       "      <td>...</td>\n",
       "      <td>...</td>\n",
       "      <td>...</td>\n",
       "      <td>...</td>\n",
       "      <td>...</td>\n",
       "    </tr>\n",
       "    <tr>\n",
       "      <th>3089004</th>\n",
       "      <td>113827</td>\n",
       "      <td>5467.0</td>\n",
       "      <td>2798.0</td>\n",
       "      <td>la reconstruccion</td>\n",
       "      <td>90.0</td>\n",
       "      <td>8.0</td>\n",
       "      <td>1</td>\n",
       "    </tr>\n",
       "    <tr>\n",
       "      <th>3089008</th>\n",
       "      <td>113828</td>\n",
       "      <td>4668.0</td>\n",
       "      <td>3232.0</td>\n",
       "      <td>la paciente</td>\n",
       "      <td>95.0</td>\n",
       "      <td>4.0</td>\n",
       "      <td>1</td>\n",
       "    </tr>\n",
       "    <tr>\n",
       "      <th>3089029</th>\n",
       "      <td>113859</td>\n",
       "      <td>20247.0</td>\n",
       "      <td>1917.0</td>\n",
       "      <td>la decision</td>\n",
       "      <td>103.0</td>\n",
       "      <td>2.0</td>\n",
       "      <td>1</td>\n",
       "    </tr>\n",
       "    <tr>\n",
       "      <th>3089031</th>\n",
       "      <td>113862</td>\n",
       "      <td>5168.0</td>\n",
       "      <td>3386.0</td>\n",
       "      <td>estafadoras de wall street</td>\n",
       "      <td>109.0</td>\n",
       "      <td>8.0</td>\n",
       "      <td>1</td>\n",
       "    </tr>\n",
       "    <tr>\n",
       "      <th>3089037</th>\n",
       "      <td>113877</td>\n",
       "      <td>27139.0</td>\n",
       "      <td>2091.0</td>\n",
       "      <td>the handmaid's tale (dob)</td>\n",
       "      <td>65.0</td>\n",
       "      <td>9.0</td>\n",
       "      <td>1</td>\n",
       "    </tr>\n",
       "  </tbody>\n",
       "</table>\n",
       "<p>696638 rows × 7 columns</p>\n",
       "</div>"
      ],
      "text/plain": [
       "         account_id  asset_id  content_id                       title  \\\n",
       "4              3388   29743.0      3487.0            socias en guerra   \n",
       "6              3388   16202.0      2100.0                the resident   \n",
       "7              3388   16571.0      2100.0                the resident   \n",
       "9              3388    1869.0      2040.0                  this is us   \n",
       "13             3389   28611.0      3225.0                los intrusos   \n",
       "...             ...       ...         ...                         ...   \n",
       "3089004      113827    5467.0      2798.0           la reconstruccion   \n",
       "3089008      113828    4668.0      3232.0                 la paciente   \n",
       "3089029      113859   20247.0      1917.0                 la decision   \n",
       "3089031      113862    5168.0      3386.0  estafadoras de wall street   \n",
       "3089037      113877   27139.0      2091.0   the handmaid's tale (dob)   \n",
       "\n",
       "         run_time_min  min_watching  ranking  \n",
       "4                84.0          16.0        1  \n",
       "6                43.0           8.0        1  \n",
       "7                43.0           5.0        1  \n",
       "9                53.0           6.0        1  \n",
       "13               90.0           4.0        1  \n",
       "...               ...           ...      ...  \n",
       "3089004          90.0           8.0        1  \n",
       "3089008          95.0           4.0        1  \n",
       "3089029         103.0           2.0        1  \n",
       "3089031         109.0           8.0        1  \n",
       "3089037          65.0           9.0        1  \n",
       "\n",
       "[696638 rows x 7 columns]"
      ]
     },
     "execution_count": 153,
     "metadata": {},
     "output_type": "execute_result"
    }
   ],
   "source": [
    "df[\n",
    "    df.ranking == 1\n",
    "][['account_id', 'asset_id', 'content_id', 'title', 'run_time_min', 'min_watching', 'ranking']]"
   ]
  },
  {
   "cell_type": "markdown",
   "metadata": {},
   "source": [
    "---"
   ]
  },
  {
   "cell_type": "markdown",
   "metadata": {},
   "source": [
    "---"
   ]
  },
  {
   "cell_type": "code",
   "execution_count": null,
   "metadata": {},
   "outputs": [],
   "source": [
    "# vamos a setear como maximo tiempo que alguien vio un contenido la duracion de este\n",
    "\n",
    "df.loc[df.min_watching > df.run_time_min, 'min_watching'] = df.run_time_min\n",
    "\n",
    "df.loc[:, 'ranking'] = (df.min_watching / df.run_time_min) * 10\n",
    "\n",
    "df.loc[df.ranking < 1, 'ranking'] = 1\n",
    "\n",
    "df.loc[:, 'ranking'] = df.ranking.astype(int)\n",
    "\n",
    "df.tail()"
   ]
  },
  {
   "cell_type": "code",
   "execution_count": null,
   "metadata": {},
   "outputs": [],
   "source": [
    "df.ranking.describe().astype(int)"
   ]
  },
  {
   "cell_type": "markdown",
   "metadata": {},
   "source": [
    "### Save Results"
   ]
  },
  {
   "cell_type": "code",
   "execution_count": null,
   "metadata": {},
   "outputs": [],
   "source": [
    "df.to_csv('data/data_cleaned_joined.csv', index=False)"
   ]
  },
  {
   "cell_type": "markdown",
   "metadata": {},
   "source": [
    "---"
   ]
  },
  {
   "cell_type": "code",
   "execution_count": 18,
   "metadata": {},
   "outputs": [
    {
     "name": "stdout",
     "output_type": "stream",
     "text": [
      "Variable           Type         Data/Info\n",
      "-----------------------------------------\n",
      "agg_funcs          dict         n=8\n",
      "datetime           type         <class 'datetime.datetime'>\n",
      "df                 DataFrame             customer_id  acc<...>089038 rows x 68 columns]\n",
      "df_cumsum          DataFrame             customer_id  acc<...>1133220 rows x 8 columns]\n",
      "df_meta            DataFrame           asset_id  content_<...>[33123 rows x 63 columns]\n",
      "joins_views        function     <function joins_views at 0x7f86cf0fb0d0>\n",
      "np                 module       <module 'numpy' from '/ho<...>kages/numpy/__init__.py'>\n",
      "pd                 module       <module 'pandas' from '/h<...>ages/pandas/__init__.py'>\n",
      "pickle             module       <module 'pickle' from '/u<...>lib/python3.8/pickle.py'>\n",
      "plt                module       <module 'matplotlib.pyplo<...>es/matplotlib/pyplot.py'>\n",
      "sns                module       <module 'seaborn' from '/<...>ges/seaborn/__init__.py'>\n",
      "train_test_split   function     <function train_test_split at 0x7f86e6cdf820>\n"
     ]
    }
   ],
   "source": [
    "whos"
   ]
  },
  {
   "cell_type": "code",
   "execution_count": 19,
   "metadata": {},
   "outputs": [
    {
     "name": "stdout",
     "output_type": "stream",
     "text": [
      "customer_id,account_id,device_type,asset_id,tunein,resume,min_watching,tunein_hour,content_id,released_year,description,cast_first_name,credits_first_name,audience,made_for_tv,pay_per_view,pack_premium_1,pack_premium_2,end_vod_date,run_time_min,show_type,country_of_origin,accion,animacion,animales,aventura,belico,biografia,ciencia,ciencia ficcion,cocina,comedia,competencia,crimen,cultura,deporte,dibujos animados,documental,drama,entretenimiento,entrevistas,espectaculo,familia,fantasia,historia,humor,infantil,interes general,investigacion,magazine,moda,musica,naturaleza,periodistico,policial,politico,reality,religion,restauracion,romance,suspenso,teatro,terror,viajes,western,title,keywords,ranking\n"
     ]
    }
   ],
   "source": [
    "!head -n 1 data/data_cleaned_joined.csv"
   ]
  },
  {
   "cell_type": "code",
   "execution_count": null,
   "metadata": {},
   "outputs": [],
   "source": []
  }
 ],
 "metadata": {
  "kernelspec": {
   "display_name": "Python 3",
   "language": "python",
   "name": "python3"
  },
  "language_info": {
   "codemirror_mode": {
    "name": "ipython",
    "version": 3
   },
   "file_extension": ".py",
   "mimetype": "text/x-python",
   "name": "python",
   "nbconvert_exporter": "python",
   "pygments_lexer": "ipython3",
   "version": "3.8.2"
  }
 },
 "nbformat": 4,
 "nbformat_minor": 4
}
