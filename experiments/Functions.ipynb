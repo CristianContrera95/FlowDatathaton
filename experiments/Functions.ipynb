{
 "cells": [
  {
   "cell_type": "markdown",
   "metadata": {},
   "source": [
    "# Util functions"
   ]
  },
  {
   "cell_type": "code",
   "execution_count": 2,
   "metadata": {},
   "outputs": [],
   "source": [
    "import datetime as dt\n",
    "\n",
    "import pandas as pd\n",
    "import numpy as np\n",
    "np.set_printoptions(precision=2)"
   ]
  },
  {
   "cell_type": "markdown",
   "metadata": {},
   "source": [
    "### Read data"
   ]
  },
  {
   "cell_type": "code",
   "execution_count": 1,
   "metadata": {},
   "outputs": [],
   "source": [
    "def create_dfs(sample_data=None, ret_test=True, clean=False):\n",
    "    \"\"\"\n",
    "    Read and joins dataset, split it into train and test and format test to content viewed by account_id\n",
    "    \"\"\"\n",
    "    if clean:\n",
    "        df = pd.read_csv('data/data_cleaned_joined.csv', parse_dates=['tunein', 'end_vod_date'])\n",
    "    else:\n",
    "        df_train = pd.read_csv('data/train_cleaned.csv', parse_dates=['tunein', 'tuneout'])\n",
    "        df_meta = pd.read_csv('data/metadata_cleaned.csv', parse_dates=['end_vod_date'])\n",
    "\n",
    "        df = pd.merge(df_train, df_meta, how='left', on='asset_id')\n",
    "\n",
    "    if sample_data is not None:\n",
    "        df = df.sample(n=sample_data)\n",
    "\n",
    "    if ret_test:\n",
    "        filter_date = dt.datetime(2021, 3, 10, 0, 0, 0).date()\n",
    "        df_test = df[df.tunein.dt.date > filter_date].copy()\n",
    "        df = df[df.tunein.dt.date < filter_date]\n",
    "        df_test = df_test.groupby(['account_id'])['content_id'].agg(lambda X: X.value_counts().index.values.tolist())\n",
    "    else:\n",
    "        df_test = None\n",
    "    \n",
    "    return df, df_test"
   ]
  },
  {
   "cell_type": "markdown",
   "metadata": {},
   "source": [
    "### Write results"
   ]
  },
  {
   "cell_type": "code",
   "execution_count": 6,
   "metadata": {},
   "outputs": [],
   "source": [
    "def write_submit(submit, file=None, check_diff=True):\n",
    "    \"\"\"\n",
    "    xx\n",
    "    \"\"\"\n",
    "    assert len(submit[submit.map(len) != 20]) == 0, \"Row with non 20 recomendations\"\n",
    "    if check_diff:\n",
    "        assert len(submit[submit.map(lambda x: len(set(x)) != 20)]) == 0, \"Row with repeated recomendations\"\n",
    "\n",
    "    submit = submit.map(lambda xs: [int(i) for i in xs])\n",
    "    if file is None:\n",
    "        submit.to_csv('submit.csv', header=False)\n",
    "    else:\n",
    "        submit.to_csv(file, header=False)"
   ]
  },
  {
   "cell_type": "markdown",
   "metadata": {},
   "source": [
    "### Mean Average Precision"
   ]
  },
  {
   "cell_type": "code",
   "execution_count": 3,
   "metadata": {},
   "outputs": [],
   "source": [
    "def avg_precision(y_true, y_pred):\n",
    "    \"\"\"\n",
    "    calculate average precision from pandas series y_true and y_pred\n",
    "    \"\"\"\n",
    "\n",
    "    def __get_ap(y_true_, y_pred_):\n",
    "        positions = [i+1 for i, pred in enumerate(y_pred_) if pred in y_true_]\n",
    "        if positions:\n",
    "            return sum([(i+1) / pos for i, pos in enumerate(positions)]) / len(positions)\n",
    "        return 0\n",
    "    \n",
    "    y_true.name = \"y_true\"\n",
    "    y_pred.name = \"y_pred\"\n",
    "    df_preds = pd.merge(y_true, y_pred, how='inner', left_index=True, right_index=True)\n",
    "\n",
    "    return df_preds.apply(lambda row: __get_ap(row[\"y_true\"], row[\"y_pred\"]), axis=1)"
   ]
  },
  {
   "cell_type": "code",
   "execution_count": 4,
   "metadata": {},
   "outputs": [],
   "source": [
    "def mean_avg_precision(y_true, y_pred, check_diff=True):\n",
    "    \n",
    "    assert len(y_pred[y_pred.map(len) != 20]) == 0, \"Row with non 20 recomendations\"\n",
    "    if check_diff:\n",
    "        assert len(y_pred[y_pred.map(lambda x: len(set(x)) != 20)]) == 0, \"Row with repeated recomendations\"\n",
    "    \n",
    "    ap_list = avg_precision(y_true, y_pred)\n",
    "    return sum(ap_list) / len(ap_list)"
   ]
  }
 ],
 "metadata": {
  "kernelspec": {
   "display_name": "Python 3",
   "language": "python",
   "name": "python3"
  },
  "language_info": {
   "codemirror_mode": {
    "name": "ipython",
    "version": 3
   },
   "file_extension": ".py",
   "mimetype": "text/x-python",
   "name": "python",
   "nbconvert_exporter": "python",
   "pygments_lexer": "ipython3",
   "version": "3.8.2"
  }
 },
 "nbformat": 4,
 "nbformat_minor": 4
}
